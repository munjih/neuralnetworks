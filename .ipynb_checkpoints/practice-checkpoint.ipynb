{
 "cells": [
  {
   "cell_type": "code",
   "execution_count": 1,
   "metadata": {},
   "outputs": [],
   "source": [
    "# Import dependencies\n",
    "import pandas as pd\n",
    "import matplotlib as plt\n",
    "from sklearn.datasets import make_blobs\n",
    "import sklearn as skl\n",
    "import tensorflow as tf"
   ]
  },
  {
   "cell_type": "code",
   "execution_count": 2,
   "metadata": {},
   "outputs": [
    {
     "data": {
      "text/plain": [
       "<matplotlib.axes._subplots.AxesSubplot at 0x1a41bcd190>"
      ]
     },
     "execution_count": 2,
     "metadata": {},
     "output_type": "execute_result"
    },
    {
     "data": {
      "image/png": "[encoded data removed]",
      "text/plain": [
       "<Figure size 432x288 with 2 Axes>"
      ]
     },
     "metadata": {
      "needs_background": "light"
     },
     "output_type": "display_data"
    }
   ],
   "source": [
    "# Generate dummy dataset\n",
    "X, y = make_blobs(n_samples=1000, centers=2, n_features=2, random_state=1)\n",
    "\n",
    "# Creating a DataFrame with the dummy data\n",
    "df = pd.DataFrame(X, columns=['Feature 1', 'Feature 2'])\n",
    "df['Target'] = y\n",
    "\n",
    "# Plotting the dummy data\n",
    "df.plot.scatter(x='Feature 1', y='Feature 2', c='Target', colormap='winter')"
   ]
  },
  {
   "cell_type": "code",
   "execution_count": 4,
   "metadata": {},
   "outputs": [],
   "source": [
    "# Split dataset\n",
    "from sklearn.model_selection import train_test_split\n",
    "X_train, X_test, y_train, y_test = train_test_split(X, y, random_state=1)"
   ]
  },
  {
   "cell_type": "code",
   "execution_count": 13,
   "metadata": {},
   "outputs": [],
   "source": [
    "# Create scaler instance\n",
    "X_scaler = skl.preprocessing.StandardScaler()\n",
    "\n",
    "# Fit scaler\n",
    "X_scaler.fit(X_train)\n",
    "\n",
    "# Scale data\n",
    "X_train_scaled = X_scaler.transform(X_train)\n",
    "X_test_scaled = X_scaler.transform(X_test)"
   ]
  },
  {
   "cell_type": "code",
   "execution_count": 14,
   "metadata": {},
   "outputs": [],
   "source": [
    "# Create the Keras Sequential Model\n",
    "nn_model = tf.keras.models.Sequential()"
   ]
  },
  {
   "cell_type": "code",
   "execution_count": 15,
   "metadata": {},
   "outputs": [],
   "source": [
    "# Add first Dense layer, including input layer\n",
    "nn_model.add(tf.keras.layers.Dense(units=1, activation='relu', input_dim=2))"
   ]
  },
  {
   "cell_type": "code",
   "execution_count": 16,
   "metadata": {},
   "outputs": [],
   "source": [
    "# Add output layer\n",
    "nn_model.add(tf.keras.layers.Dense(units=1, activation='sigmoid'))"
   ]
  },
  {
   "cell_type": "code",
   "execution_count": 17,
   "metadata": {},
   "outputs": [
    {
     "name": "stdout",
     "output_type": "stream",
     "text": [
      "Model: \"sequential_1\"\n",
      "_________________________________________________________________\n",
      "Layer (type)                 Output Shape              Param #   \n",
      "=================================================================\n",
      "dense_2 (Dense)              (None, 1)                 3         \n",
      "_________________________________________________________________\n",
      "dense_3 (Dense)              (None, 1)                 2         \n",
      "=================================================================\n",
      "Total params: 5\n",
      "Trainable params: 5\n",
      "Non-trainable params: 0\n",
      "_________________________________________________________________\n"
     ]
    }
   ],
   "source": [
    "# Check structure of the Sequential model\n",
    "nn_model.summary()"
   ]
  },
  {
   "cell_type": "code",
   "execution_count": 18,
   "metadata": {},
   "outputs": [],
   "source": [
    "# Compile the Sequential model and customize metrics\n",
    "nn_model.compile(loss='binary_crossentropy', optimizer='adam', metrics=['accuracy'])"
   ]
  },
  {
   "cell_type": "code",
   "execution_count": 19,
   "metadata": {},
   "outputs": [
    {
     "name": "stdout",
     "output_type": "stream",
     "text": [
      "Train on 750 samples\n",
      "Epoch 1/100\n",
      "750/750 [==============================] - 1s 2ms/sample - loss: 0.6917 - accuracy: 0.6747\n",
      "Epoch 2/100\n",
      "750/750 [==============================] - 0s 95us/sample - loss: 0.6897 - accuracy: 0.7347\n",
      "Epoch 3/100\n",
      "750/750 [==============================] - 0s 97us/sample - loss: 0.6866 - accuracy: 0.7933\n",
      "Epoch 4/100\n",
      "750/750 [==============================] - 0s 103us/sample - loss: 0.6818 - accuracy: 0.8387\n",
      "Epoch 5/100\n",
      "750/750 [==============================] - 0s 116us/sample - loss: 0.6751 - accuracy: 0.8840\n",
      "Epoch 6/100\n",
      "750/750 [==============================] - 0s 109us/sample - loss: 0.6664 - accuracy: 0.9173\n",
      "Epoch 7/100\n",
      "750/750 [==============================] - 0s 111us/sample - loss: 0.6557 - accuracy: 0.9413\n",
      "Epoch 8/100\n",
      "750/750 [==============================] - 0s 146us/sample - loss: 0.6433 - accuracy: 0.9587\n",
      "Epoch 9/100\n",
      "750/750 [==============================] - 0s 112us/sample - loss: 0.6295 - accuracy: 0.9667\n",
      "Epoch 10/100\n",
      "750/750 [==============================] - 0s 109us/sample - loss: 0.6144 - accuracy: 0.9720\n",
      "Epoch 11/100\n",
      "750/750 [==============================] - 0s 109us/sample - loss: 0.5983 - accuracy: 0.9760\n",
      "Epoch 12/100\n",
      "750/750 [==============================] - 0s 110us/sample - loss: 0.5814 - accuracy: 0.9813\n",
      "Epoch 13/100\n",
      "750/750 [==============================] - 0s 109us/sample - loss: 0.5642 - accuracy: 0.9880\n",
      "Epoch 14/100\n",
      "750/750 [==============================] - 0s 111us/sample - loss: 0.5464 - accuracy: 0.9907\n",
      "Epoch 15/100\n",
      "750/750 [==============================] - 0s 110us/sample - loss: 0.5287 - accuracy: 0.9933\n",
      "Epoch 16/100\n",
      "750/750 [==============================] - 0s 115us/sample - loss: 0.5109 - accuracy: 0.9947\n",
      "Epoch 17/100\n",
      "750/750 [==============================] - 0s 117us/sample - loss: 0.4935 - accuracy: 0.9947\n",
      "Epoch 18/100\n",
      "750/750 [==============================] - 0s 115us/sample - loss: 0.4763 - accuracy: 0.9973\n",
      "Epoch 19/100\n",
      "750/750 [==============================] - 0s 108us/sample - loss: 0.4596 - accuracy: 0.9987\n",
      "Epoch 20/100\n",
      "750/750 [==============================] - 0s 110us/sample - loss: 0.4433 - accuracy: 0.9987\n",
      "Epoch 21/100\n",
      "750/750 [==============================] - 0s 119us/sample - loss: 0.4277 - accuracy: 0.9987\n",
      "Epoch 22/100\n",
      "750/750 [==============================] - 0s 112us/sample - loss: 0.4125 - accuracy: 0.9987\n",
      "Epoch 23/100\n",
      "750/750 [==============================] - 0s 111us/sample - loss: 0.3981 - accuracy: 0.9987\n",
      "Epoch 24/100\n",
      "750/750 [==============================] - 0s 107us/sample - loss: 0.3843 - accuracy: 0.9987\n",
      "Epoch 25/100\n",
      "750/750 [==============================] - 0s 133us/sample - loss: 0.3711 - accuracy: 0.9987\n",
      "Epoch 26/100\n",
      "750/750 [==============================] - 0s 110us/sample - loss: 0.3586 - accuracy: 1.0000\n",
      "Epoch 27/100\n",
      "750/750 [==============================] - 0s 116us/sample - loss: 0.3466 - accuracy: 1.0000\n",
      "Epoch 28/100\n",
      "750/750 [==============================] - 0s 115us/sample - loss: 0.3353 - accuracy: 1.0000\n",
      "Epoch 29/100\n",
      "750/750 [==============================] - 0s 116us/sample - loss: 0.3245 - accuracy: 1.0000\n",
      "Epoch 30/100\n",
      "750/750 [==============================] - 0s 111us/sample - loss: 0.3142 - accuracy: 1.0000\n",
      "Epoch 31/100\n",
      "750/750 [==============================] - 0s 114us/sample - loss: 0.3045 - accuracy: 1.0000\n",
      "Epoch 32/100\n",
      "750/750 [==============================] - 0s 111us/sample - loss: 0.2952 - accuracy: 1.0000\n",
      "Epoch 33/100\n",
      "750/750 [==============================] - 0s 132us/sample - loss: 0.2863 - accuracy: 1.0000\n",
      "Epoch 34/100\n",
      "750/750 [==============================] - 0s 121us/sample - loss: 0.2779 - accuracy: 1.0000\n",
      "Epoch 35/100\n",
      "750/750 [==============================] - 0s 116us/sample - loss: 0.2699 - accuracy: 1.0000\n",
      "Epoch 36/100\n",
      "750/750 [==============================] - 0s 115us/sample - loss: 0.2622 - accuracy: 1.0000\n",
      "Epoch 37/100\n",
      "750/750 [==============================] - 0s 124us/sample - loss: 0.2549 - accuracy: 1.0000\n",
      "Epoch 38/100\n",
      "750/750 [==============================] - 0s 169us/sample - loss: 0.2479 - accuracy: 1.0000\n",
      "Epoch 39/100\n",
      "750/750 [==============================] - 0s 121us/sample - loss: 0.2412 - accuracy: 1.0000\n",
      "Epoch 40/100\n",
      "750/750 [==============================] - 0s 111us/sample - loss: 0.2348 - accuracy: 1.0000\n",
      "Epoch 41/100\n",
      "750/750 [==============================] - ETA: 0s - loss: 0.2256 - accuracy: 1.00 - 0s 111us/sample - loss: 0.2287 - accuracy: 1.0000\n",
      "Epoch 42/100\n",
      "750/750 [==============================] - 0s 148us/sample - loss: 0.2228 - accuracy: 1.0000\n",
      "Epoch 43/100\n",
      "750/750 [==============================] - 0s 111us/sample - loss: 0.2172 - accuracy: 1.0000\n",
      "Epoch 44/100\n",
      "750/750 [==============================] - 0s 117us/sample - loss: 0.2118 - accuracy: 1.0000\n",
      "Epoch 45/100\n",
      "750/750 [==============================] - 0s 153us/sample - loss: 0.2066 - accuracy: 1.0000\n",
      "Epoch 46/100\n",
      "750/750 [==============================] - 0s 108us/sample - loss: 0.2017 - accuracy: 1.0000\n",
      "Epoch 47/100\n",
      "750/750 [==============================] - 0s 128us/sample - loss: 0.1969 - accuracy: 1.0000\n",
      "Epoch 48/100\n",
      "750/750 [==============================] - 0s 102us/sample - loss: 0.1923 - accuracy: 1.0000\n",
      "Epoch 49/100\n",
      "750/750 [==============================] - ETA: 0s - loss: 0.1884 - accuracy: 1.00 - 0s 115us/sample - loss: 0.1879 - accuracy: 1.0000\n",
      "Epoch 50/100\n",
      "750/750 [==============================] - 0s 121us/sample - loss: 0.1836 - accuracy: 1.0000\n",
      "Epoch 51/100\n",
      "750/750 [==============================] - 0s 122us/sample - loss: 0.1795 - accuracy: 1.0000\n",
      "Epoch 52/100\n",
      "750/750 [==============================] - 0s 129us/sample - loss: 0.1755 - accuracy: 1.0000\n",
      "Epoch 53/100\n",
      "750/750 [==============================] - 0s 103us/sample - loss: 0.1717 - accuracy: 1.0000\n",
      "Epoch 54/100\n",
      "750/750 [==============================] - 0s 95us/sample - loss: 0.1680 - accuracy: 1.0000\n",
      "Epoch 55/100\n",
      "750/750 [==============================] - 0s 103us/sample - loss: 0.1644 - accuracy: 1.0000\n",
      "Epoch 56/100\n",
      "750/750 [==============================] - 0s 110us/sample - loss: 0.1609 - accuracy: 1.0000\n",
      "Epoch 57/100\n",
      "750/750 [==============================] - 0s 115us/sample - loss: 0.1575 - accuracy: 1.0000\n",
      "Epoch 58/100\n",
      "750/750 [==============================] - 0s 111us/sample - loss: 0.1543 - accuracy: 1.0000\n",
      "Epoch 59/100\n",
      "750/750 [==============================] - 0s 109us/sample - loss: 0.1511 - accuracy: 1.0000\n",
      "Epoch 60/100\n",
      "750/750 [==============================] - 0s 127us/sample - loss: 0.1481 - accuracy: 1.0000\n",
      "Epoch 61/100\n",
      "750/750 [==============================] - 0s 85us/sample - loss: 0.1451 - accuracy: 1.0000\n",
      "Epoch 62/100\n",
      "750/750 [==============================] - 0s 94us/sample - loss: 0.1422 - accuracy: 1.0000\n",
      "Epoch 63/100\n",
      "750/750 [==============================] - 0s 90us/sample - loss: 0.1395 - accuracy: 1.0000\n",
      "Epoch 64/100\n",
      "750/750 [==============================] - 0s 89us/sample - loss: 0.1367 - accuracy: 1.0000\n",
      "Epoch 65/100\n",
      "750/750 [==============================] - 0s 92us/sample - loss: 0.1341 - accuracy: 1.0000\n",
      "Epoch 66/100\n",
      "750/750 [==============================] - 0s 93us/sample - loss: 0.1316 - accuracy: 1.0000\n",
      "Epoch 67/100\n",
      "750/750 [==============================] - 0s 93us/sample - loss: 0.1291 - accuracy: 1.0000\n",
      "Epoch 68/100\n",
      "750/750 [==============================] - 0s 101us/sample - loss: 0.1267 - accuracy: 1.0000\n",
      "Epoch 69/100\n",
      "750/750 [==============================] - 0s 119us/sample - loss: 0.1243 - accuracy: 1.0000\n",
      "Epoch 70/100\n",
      "750/750 [==============================] - 0s 100us/sample - loss: 0.1220 - accuracy: 1.0000\n",
      "Epoch 71/100\n",
      "750/750 [==============================] - 0s 107us/sample - loss: 0.1198 - accuracy: 1.0000\n",
      "Epoch 72/100\n",
      "750/750 [==============================] - 0s 96us/sample - loss: 0.1176 - accuracy: 1.0000\n",
      "Epoch 73/100\n",
      "750/750 [==============================] - 0s 97us/sample - loss: 0.1155 - accuracy: 1.0000\n",
      "Epoch 74/100\n",
      "750/750 [==============================] - 0s 98us/sample - loss: 0.1135 - accuracy: 1.0000\n",
      "Epoch 75/100\n",
      "750/750 [==============================] - 0s 91us/sample - loss: 0.1114 - accuracy: 1.0000\n",
      "Epoch 76/100\n",
      "750/750 [==============================] - 0s 88us/sample - loss: 0.1095 - accuracy: 1.0000\n",
      "Epoch 77/100\n"
     ]
    },
    {
     "name": "stdout",
     "output_type": "stream",
     "text": [
      "750/750 [==============================] - 0s 90us/sample - loss: 0.1076 - accuracy: 1.0000\n",
      "Epoch 78/100\n",
      "750/750 [==============================] - 0s 85us/sample - loss: 0.1057 - accuracy: 1.0000\n",
      "Epoch 79/100\n",
      "750/750 [==============================] - 0s 79us/sample - loss: 0.1039 - accuracy: 1.0000\n",
      "Epoch 80/100\n",
      "750/750 [==============================] - 0s 83us/sample - loss: 0.1021 - accuracy: 1.0000\n",
      "Epoch 81/100\n",
      "750/750 [==============================] - 0s 77us/sample - loss: 0.1004 - accuracy: 1.0000\n",
      "Epoch 82/100\n",
      "750/750 [==============================] - 0s 75us/sample - loss: 0.0987 - accuracy: 1.0000\n",
      "Epoch 83/100\n",
      "750/750 [==============================] - 0s 85us/sample - loss: 0.0971 - accuracy: 1.0000\n",
      "Epoch 84/100\n",
      "750/750 [==============================] - 0s 74us/sample - loss: 0.0955 - accuracy: 1.0000\n",
      "Epoch 85/100\n",
      "750/750 [==============================] - 0s 80us/sample - loss: 0.0939 - accuracy: 1.0000\n",
      "Epoch 86/100\n",
      "750/750 [==============================] - 0s 71us/sample - loss: 0.0924 - accuracy: 1.0000\n",
      "Epoch 87/100\n",
      "750/750 [==============================] - 0s 82us/sample - loss: 0.0909 - accuracy: 1.0000\n",
      "Epoch 88/100\n",
      "750/750 [==============================] - 0s 95us/sample - loss: 0.0894 - accuracy: 1.0000\n",
      "Epoch 89/100\n",
      "750/750 [==============================] - 0s 88us/sample - loss: 0.0880 - accuracy: 1.0000\n",
      "Epoch 90/100\n",
      "750/750 [==============================] - 0s 82us/sample - loss: 0.0866 - accuracy: 1.0000\n",
      "Epoch 91/100\n",
      "750/750 [==============================] - 0s 81us/sample - loss: 0.0852 - accuracy: 1.0000\n",
      "Epoch 92/100\n",
      "750/750 [==============================] - 0s 79us/sample - loss: 0.0839 - accuracy: 1.0000\n",
      "Epoch 93/100\n",
      "750/750 [==============================] - 0s 82us/sample - loss: 0.0825 - accuracy: 1.0000\n",
      "Epoch 94/100\n",
      "750/750 [==============================] - 0s 122us/sample - loss: 0.0812 - accuracy: 1.0000\n",
      "Epoch 95/100\n",
      "750/750 [==============================] - 0s 113us/sample - loss: 0.0800 - accuracy: 1.0000\n",
      "Epoch 96/100\n",
      "750/750 [==============================] - 0s 92us/sample - loss: 0.0787 - accuracy: 1.0000\n",
      "Epoch 97/100\n",
      "750/750 [==============================] - 0s 88us/sample - loss: 0.0775 - accuracy: 1.0000\n",
      "Epoch 98/100\n",
      "750/750 [==============================] - 0s 80us/sample - loss: 0.0763 - accuracy: 1.0000\n",
      "Epoch 99/100\n",
      "750/750 [==============================] - 0s 83us/sample - loss: 0.0752 - accuracy: 1.0000\n",
      "Epoch 100/100\n",
      "750/750 [==============================] - 0s 77us/sample - loss: 0.0740 - accuracy: 1.0000\n"
     ]
    }
   ],
   "source": [
    "# Fit model to the training data\n",
    "fit_model = nn_model.fit(X_train_scaled, y_train, epochs=100)"
   ]
  },
  {
   "cell_type": "code",
   "execution_count": 23,
   "metadata": {},
   "outputs": [
    {
     "data": {
      "text/plain": [
       "<matplotlib.axes._subplots.AxesSubplot at 0x1a438e2850>"
      ]
     },
     "execution_count": 23,
     "metadata": {},
     "output_type": "execute_result"
    },
    {
     "data": {
      "image/png": "[encoded data removed]",
      "text/plain": [
       "<Figure size 432x288 with 1 Axes>"
      ]
     },
     "metadata": {
      "needs_background": "light"
     },
     "output_type": "display_data"
    }
   ],
   "source": [
    "# Create a DataFrame containing training history\n",
    "history_df = pd.DataFrame(fit_model.history, index=range(1,len(fit_model.history['loss'])+1))\n",
    "\n",
    "# Plot the loss\n",
    "history_df.plot(y='loss')"
   ]
  },
  {
   "cell_type": "code",
   "execution_count": 24,
   "metadata": {},
   "outputs": [
    {
     "data": {
      "text/plain": [
       "<matplotlib.axes._subplots.AxesSubplot at 0x1a439b1390>"
      ]
     },
     "execution_count": 24,
     "metadata": {},
     "output_type": "execute_result"
    },
    {
     "data": {
      "image/png": "[encoded data removed]",
      "text/plain": [
       "<Figure size 432x288 with 1 Axes>"
      ]
     },
     "metadata": {
      "needs_background": "light"
     },
     "output_type": "display_data"
    }
   ],
   "source": [
    "#  Plot the accuracy\n",
    "history_df.plot(y='accuracy')"
   ]
  },
  {
   "cell_type": "code",
   "execution_count": 25,
   "metadata": {},
   "outputs": [
    {
     "name": "stdout",
     "output_type": "stream",
     "text": [
      "250/1 - 0s - loss: 0.0614 - accuracy: 1.0000\n",
      "Loss: 0.06956212803721427, Accuracy: 1.0\n"
     ]
    }
   ],
   "source": [
    "# Evaluate the model using test data\n",
    "model_loss, model_accuracy = nn_model.evaluate(X_test_scaled, y_test, verbose=2)\n",
    "print(f'Loss: {model_loss}, Accuracy: {model_accuracy}')"
   ]
  },
  {
   "cell_type": "code",
   "execution_count": 27,
   "metadata": {},
   "outputs": [
    {
     "data": {
      "text/plain": [
       "array([[1],\n",
       "       [1],\n",
       "       [1],\n",
       "       [1],\n",
       "       [0],\n",
       "       [0],\n",
       "       [0],\n",
       "       [1],\n",
       "       [0],\n",
       "       [0]], dtype=int32)"
      ]
     },
     "execution_count": 27,
     "metadata": {},
     "output_type": "execute_result"
    }
   ],
   "source": [
    "# Predict the classification of a new set of blob data\n",
    "new_X, new_Y = make_blobs(n_samples=10, centers=2, n_features=2, random_state=1)\n",
    "new_X_scaled = X_scaler.transform(new_X)\n",
    "nn_model.predict_classes(new_X_scaled)"
   ]
  },
  {
   "cell_type": "code",
   "execution_count": 28,
   "metadata": {},
   "outputs": [
    {
     "data": {
      "text/plain": [
       "<matplotlib.axes._subplots.AxesSubplot at 0x1a4374b290>"
      ]
     },
     "execution_count": 28,
     "metadata": {},
     "output_type": "execute_result"
    },
    {
     "data": {
      "image/png": "[encoded data removed]",
      "text/plain": [
       "<Figure size 432x288 with 2 Axes>"
      ]
     },
     "metadata": {
      "needs_background": "light"
     },
     "output_type": "display_data"
    }
   ],
   "source": [
    "from sklearn.datasets import make_moons\n",
    "\n",
    "# Create dummy nonlinear data\n",
    "X_moons, y_moons = make_moons(n_samples=1000, noise=0.08, random_state=1)\n",
    "\n",
    "# Transform y_moons to a vertical vector\n",
    "y_moons = y_moons.reshape(-1, 1)\n",
    "\n",
    "# Create DataFrame to plot the nonlinear dummy data\n",
    "df_moons = pd.DataFrame(X_moons, columns=['Feature 1', 'Feature 2'])\n",
    "df_moons['Target'] = y_moons\n",
    "\n",
    "# Plot the nonlinear dummy data\n",
    "df_moons.plot.scatter(x='Feature 1', y='Feature 2', c='Target', colormap='winter')"
   ]
  },
  {
   "cell_type": "code",
   "execution_count": 29,
   "metadata": {},
   "outputs": [],
   "source": [
    "# Create training and testing sets\n",
    "X_moon_train, X_moon_test, y_moon_train, y_moon_test = train_test_split(X_moons, y_moons, random_state=1)\n",
    "\n",
    "# Create the scaler instance\n",
    "X_moon_scaler = skl.preprocessing.StandardScaler()\n",
    "\n",
    "# Fit scaler\n",
    "X_moon_scaler.fit(X_moon_train)\n",
    "\n",
    "# Scale data\n",
    "X_moon_train_scaled = X_moon_scaler.transform(X_moon_train)\n",
    "X_moon_test_scaled = X_moon_scaler.transform(X_moon_test)"
   ]
  },
  {
   "cell_type": "code",
   "execution_count": 31,
   "metadata": {},
   "outputs": [
    {
     "name": "stdout",
     "output_type": "stream",
     "text": [
      "Train on 750 samples\n",
      "Epoch 1/100\n",
      "750/750 [==============================] - 0s 230us/sample - loss: 1.6998 - accuracy: 0.4707\n",
      "Epoch 2/100\n",
      "750/750 [==============================] - 0s 114us/sample - loss: 1.4648 - accuracy: 0.4907\n",
      "Epoch 3/100\n",
      "750/750 [==============================] - 0s 118us/sample - loss: 1.3089 - accuracy: 0.5187\n",
      "Epoch 4/100\n",
      "750/750 [==============================] - 0s 116us/sample - loss: 1.2032 - accuracy: 0.5280\n",
      "Epoch 5/100\n",
      "750/750 [==============================] - 0s 109us/sample - loss: 1.1274 - accuracy: 0.5413\n",
      "Epoch 6/100\n",
      "750/750 [==============================] - 0s 112us/sample - loss: 1.0694 - accuracy: 0.5547\n",
      "Epoch 7/100\n",
      "750/750 [==============================] - 0s 120us/sample - loss: 1.0232 - accuracy: 0.5613\n",
      "Epoch 8/100\n",
      "750/750 [==============================] - 0s 113us/sample - loss: 0.9843 - accuracy: 0.5627\n",
      "Epoch 9/100\n",
      "750/750 [==============================] - 0s 111us/sample - loss: 0.9519 - accuracy: 0.5707\n",
      "Epoch 10/100\n",
      "750/750 [==============================] - 0s 106us/sample - loss: 0.9232 - accuracy: 0.5773\n",
      "Epoch 11/100\n",
      "750/750 [==============================] - 0s 192us/sample - loss: 0.8985 - accuracy: 0.5773\n",
      "Epoch 12/100\n",
      "750/750 [==============================] - 0s 229us/sample - loss: 0.8758 - accuracy: 0.5853\n",
      "Epoch 13/100\n",
      "750/750 [==============================] - 0s 107us/sample - loss: 0.8558 - accuracy: 0.5933\n",
      "Epoch 14/100\n",
      "750/750 [==============================] - 0s 110us/sample - loss: 0.8376 - accuracy: 0.6013\n",
      "Epoch 15/100\n",
      "750/750 [==============================] - 0s 112us/sample - loss: 0.8204 - accuracy: 0.6120\n",
      "Epoch 16/100\n",
      "750/750 [==============================] - 0s 120us/sample - loss: 0.8049 - accuracy: 0.6120\n",
      "Epoch 17/100\n",
      "750/750 [==============================] - 0s 145us/sample - loss: 0.7895 - accuracy: 0.6187\n",
      "Epoch 18/100\n",
      "750/750 [==============================] - 0s 115us/sample - loss: 0.7755 - accuracy: 0.6227\n",
      "Epoch 19/100\n",
      "750/750 [==============================] - 0s 116us/sample - loss: 0.7620 - accuracy: 0.6293\n",
      "Epoch 20/100\n",
      "750/750 [==============================] - 0s 113us/sample - loss: 0.7495 - accuracy: 0.6400\n",
      "Epoch 21/100\n",
      "750/750 [==============================] - 0s 115us/sample - loss: 0.7379 - accuracy: 0.6453\n",
      "Epoch 22/100\n",
      "750/750 [==============================] - 0s 119us/sample - loss: 0.7264 - accuracy: 0.6480\n",
      "Epoch 23/100\n",
      "750/750 [==============================] - 0s 108us/sample - loss: 0.7155 - accuracy: 0.6560\n",
      "Epoch 24/100\n",
      "750/750 [==============================] - 0s 121us/sample - loss: 0.7049 - accuracy: 0.6640\n",
      "Epoch 25/100\n",
      "750/750 [==============================] - 0s 119us/sample - loss: 0.6948 - accuracy: 0.6667\n",
      "Epoch 26/100\n",
      "750/750 [==============================] - 0s 115us/sample - loss: 0.6849 - accuracy: 0.6720\n",
      "Epoch 27/100\n",
      "750/750 [==============================] - 0s 100us/sample - loss: 0.6752 - accuracy: 0.6773\n",
      "Epoch 28/100\n",
      "750/750 [==============================] - 0s 116us/sample - loss: 0.6660 - accuracy: 0.6800\n",
      "Epoch 29/100\n",
      "750/750 [==============================] - 0s 141us/sample - loss: 0.6572 - accuracy: 0.6840\n",
      "Epoch 30/100\n",
      "750/750 [==============================] - 0s 110us/sample - loss: 0.6483 - accuracy: 0.6867\n",
      "Epoch 31/100\n",
      "750/750 [==============================] - 0s 115us/sample - loss: 0.6398 - accuracy: 0.6920\n",
      "Epoch 32/100\n",
      "750/750 [==============================] - 0s 121us/sample - loss: 0.6320 - accuracy: 0.7000\n",
      "Epoch 33/100\n",
      "750/750 [==============================] - 0s 119us/sample - loss: 0.6244 - accuracy: 0.7053\n",
      "Epoch 34/100\n",
      "750/750 [==============================] - 0s 134us/sample - loss: 0.6171 - accuracy: 0.7093\n",
      "Epoch 35/100\n",
      "750/750 [==============================] - 0s 134us/sample - loss: 0.6098 - accuracy: 0.7120\n",
      "Epoch 36/100\n",
      "750/750 [==============================] - 0s 136us/sample - loss: 0.6028 - accuracy: 0.7173\n",
      "Epoch 37/100\n",
      "750/750 [==============================] - 0s 119us/sample - loss: 0.5962 - accuracy: 0.7200\n",
      "Epoch 38/100\n",
      "750/750 [==============================] - 0s 112us/sample - loss: 0.5897 - accuracy: 0.7187\n",
      "Epoch 39/100\n",
      "750/750 [==============================] - 0s 120us/sample - loss: 0.5835 - accuracy: 0.7213\n",
      "Epoch 40/100\n",
      "750/750 [==============================] - 0s 137us/sample - loss: 0.5773 - accuracy: 0.7227\n",
      "Epoch 41/100\n",
      "750/750 [==============================] - 0s 129us/sample - loss: 0.5713 - accuracy: 0.7227\n",
      "Epoch 42/100\n",
      "750/750 [==============================] - 0s 116us/sample - loss: 0.5656 - accuracy: 0.7267\n",
      "Epoch 43/100\n",
      "750/750 [==============================] - 0s 126us/sample - loss: 0.5600 - accuracy: 0.7293\n",
      "Epoch 44/100\n",
      "750/750 [==============================] - 0s 129us/sample - loss: 0.5544 - accuracy: 0.7307\n",
      "Epoch 45/100\n",
      "750/750 [==============================] - 0s 119us/sample - loss: 0.5489 - accuracy: 0.7373\n",
      "Epoch 46/100\n",
      "750/750 [==============================] - 0s 118us/sample - loss: 0.5432 - accuracy: 0.7427\n",
      "Epoch 47/100\n",
      "750/750 [==============================] - 0s 126us/sample - loss: 0.5379 - accuracy: 0.7427\n",
      "Epoch 48/100\n",
      "750/750 [==============================] - 0s 134us/sample - loss: 0.5325 - accuracy: 0.7427\n",
      "Epoch 49/100\n",
      "750/750 [==============================] - 0s 110us/sample - loss: 0.5274 - accuracy: 0.7467\n",
      "Epoch 50/100\n",
      "750/750 [==============================] - 0s 123us/sample - loss: 0.5223 - accuracy: 0.7480\n",
      "Epoch 51/100\n",
      "750/750 [==============================] - 0s 142us/sample - loss: 0.5173 - accuracy: 0.7547\n",
      "Epoch 52/100\n",
      "750/750 [==============================] - 0s 148us/sample - loss: 0.5125 - accuracy: 0.7573\n",
      "Epoch 53/100\n",
      "750/750 [==============================] - 0s 142us/sample - loss: 0.5079 - accuracy: 0.7560\n",
      "Epoch 54/100\n",
      "750/750 [==============================] - 0s 125us/sample - loss: 0.5032 - accuracy: 0.7587\n",
      "Epoch 55/100\n",
      "750/750 [==============================] - 0s 105us/sample - loss: 0.4987 - accuracy: 0.7587\n",
      "Epoch 56/100\n",
      "750/750 [==============================] - 0s 111us/sample - loss: 0.4943 - accuracy: 0.7600\n",
      "Epoch 57/100\n",
      "750/750 [==============================] - 0s 109us/sample - loss: 0.4901 - accuracy: 0.7653\n",
      "Epoch 58/100\n",
      "750/750 [==============================] - 0s 160us/sample - loss: 0.4859 - accuracy: 0.7733\n",
      "Epoch 59/100\n",
      "750/750 [==============================] - 0s 101us/sample - loss: 0.4818 - accuracy: 0.7773\n",
      "Epoch 60/100\n",
      "750/750 [==============================] - 0s 119us/sample - loss: 0.4777 - accuracy: 0.7827\n",
      "Epoch 61/100\n",
      "750/750 [==============================] - 0s 110us/sample - loss: 0.4736 - accuracy: 0.7853\n",
      "Epoch 62/100\n",
      "750/750 [==============================] - 0s 115us/sample - loss: 0.4694 - accuracy: 0.7867\n",
      "Epoch 63/100\n",
      "750/750 [==============================] - 0s 117us/sample - loss: 0.4654 - accuracy: 0.7867\n",
      "Epoch 64/100\n",
      "750/750 [==============================] - 0s 112us/sample - loss: 0.4613 - accuracy: 0.7880\n",
      "Epoch 65/100\n",
      "750/750 [==============================] - 0s 107us/sample - loss: 0.4572 - accuracy: 0.7867\n",
      "Epoch 66/100\n",
      "750/750 [==============================] - 0s 102us/sample - loss: 0.4532 - accuracy: 0.7867\n",
      "Epoch 67/100\n",
      "750/750 [==============================] - 0s 128us/sample - loss: 0.4493 - accuracy: 0.7853\n",
      "Epoch 68/100\n",
      "750/750 [==============================] - 0s 157us/sample - loss: 0.4454 - accuracy: 0.7893\n",
      "Epoch 69/100\n",
      "750/750 [==============================] - 0s 97us/sample - loss: 0.4416 - accuracy: 0.7920\n",
      "Epoch 70/100\n",
      "750/750 [==============================] - 0s 95us/sample - loss: 0.4378 - accuracy: 0.7947\n",
      "Epoch 71/100\n",
      "750/750 [==============================] - 0s 98us/sample - loss: 0.4339 - accuracy: 0.7973\n",
      "Epoch 72/100\n",
      "750/750 [==============================] - 0s 94us/sample - loss: 0.4300 - accuracy: 0.7960\n",
      "Epoch 73/100\n",
      "750/750 [==============================] - 0s 97us/sample - loss: 0.4264 - accuracy: 0.8000\n",
      "Epoch 74/100\n",
      "750/750 [==============================] - 0s 98us/sample - loss: 0.4227 - accuracy: 0.8013\n",
      "Epoch 75/100\n",
      "750/750 [==============================] - 0s 107us/sample - loss: 0.4192 - accuracy: 0.8000\n",
      "Epoch 76/100\n",
      "750/750 [==============================] - 0s 104us/sample - loss: 0.4159 - accuracy: 0.7987\n",
      "Epoch 77/100\n",
      "750/750 [==============================] - 0s 98us/sample - loss: 0.4123 - accuracy: 0.8000\n",
      "Epoch 78/100\n"
     ]
    },
    {
     "name": "stdout",
     "output_type": "stream",
     "text": [
      "750/750 [==============================] - 0s 94us/sample - loss: 0.4089 - accuracy: 0.8067\n",
      "Epoch 79/100\n",
      "750/750 [==============================] - 0s 91us/sample - loss: 0.4056 - accuracy: 0.8080\n",
      "Epoch 80/100\n",
      "750/750 [==============================] - 0s 83us/sample - loss: 0.4022 - accuracy: 0.8093\n",
      "Epoch 81/100\n",
      "750/750 [==============================] - 0s 78us/sample - loss: 0.3990 - accuracy: 0.8093\n",
      "Epoch 82/100\n",
      "750/750 [==============================] - 0s 81us/sample - loss: 0.3957 - accuracy: 0.8093\n",
      "Epoch 83/100\n",
      "750/750 [==============================] - 0s 88us/sample - loss: 0.3924 - accuracy: 0.8080\n",
      "Epoch 84/100\n",
      "750/750 [==============================] - 0s 84us/sample - loss: 0.3891 - accuracy: 0.8080\n",
      "Epoch 85/100\n",
      "750/750 [==============================] - 0s 90us/sample - loss: 0.3859 - accuracy: 0.8133\n",
      "Epoch 86/100\n",
      "750/750 [==============================] - 0s 87us/sample - loss: 0.3826 - accuracy: 0.8200\n",
      "Epoch 87/100\n",
      "750/750 [==============================] - 0s 86us/sample - loss: 0.3793 - accuracy: 0.8253\n",
      "Epoch 88/100\n",
      "750/750 [==============================] - 0s 83us/sample - loss: 0.3761 - accuracy: 0.8253\n",
      "Epoch 89/100\n",
      "750/750 [==============================] - 0s 87us/sample - loss: 0.3729 - accuracy: 0.8267\n",
      "Epoch 90/100\n",
      "750/750 [==============================] - 0s 78us/sample - loss: 0.3699 - accuracy: 0.8267\n",
      "Epoch 91/100\n",
      "750/750 [==============================] - 0s 89us/sample - loss: 0.3668 - accuracy: 0.8307\n",
      "Epoch 92/100\n",
      "750/750 [==============================] - 0s 82us/sample - loss: 0.3639 - accuracy: 0.8307\n",
      "Epoch 93/100\n",
      "750/750 [==============================] - 0s 84us/sample - loss: 0.3610 - accuracy: 0.8320\n",
      "Epoch 94/100\n",
      "750/750 [==============================] - 0s 87us/sample - loss: 0.3583 - accuracy: 0.8320\n",
      "Epoch 95/100\n",
      "750/750 [==============================] - 0s 86us/sample - loss: 0.3555 - accuracy: 0.8333\n",
      "Epoch 96/100\n",
      "750/750 [==============================] - 0s 92us/sample - loss: 0.3529 - accuracy: 0.8320\n",
      "Epoch 97/100\n",
      "750/750 [==============================] - 0s 90us/sample - loss: 0.3503 - accuracy: 0.8320\n",
      "Epoch 98/100\n",
      "750/750 [==============================] - 0s 83us/sample - loss: 0.3478 - accuracy: 0.8333\n",
      "Epoch 99/100\n",
      "750/750 [==============================] - 0s 93us/sample - loss: 0.3453 - accuracy: 0.8400s - loss: 0.3459 - accuracy: 0.84\n",
      "Epoch 100/100\n",
      "750/750 [==============================] - 0s 96us/sample - loss: 0.3431 - accuracy: 0.8427\n"
     ]
    }
   ],
   "source": [
    "# Train model with nonlinear data\n",
    "model_moon = nn_model.fit(X_moon_train_scaled, y_moon_train, epochs=100, shuffle=True)"
   ]
  },
  {
   "cell_type": "code",
   "execution_count": 32,
   "metadata": {},
   "outputs": [
    {
     "data": {
      "text/plain": [
       "<matplotlib.axes._subplots.AxesSubplot at 0x1a43f90710>"
      ]
     },
     "execution_count": 32,
     "metadata": {},
     "output_type": "execute_result"
    },
    {
     "data": {
      "image/png": "[encoded data removed]",
      "text/plain": [
       "<Figure size 432x288 with 1 Axes>"
      ]
     },
     "metadata": {
      "needs_background": "light"
     },
     "output_type": "display_data"
    }
   ],
   "source": [
    "# Create DataFrame containing training history\n",
    "history_df = pd.DataFrame(model_moon.history, index=range(1,len(model_moon.history['loss'])+1))\n",
    "\n",
    "# Plot DataFrame\n",
    "history_df.plot(y='loss')"
   ]
  },
  {
   "cell_type": "code",
   "execution_count": 33,
   "metadata": {},
   "outputs": [
    {
     "data": {
      "text/plain": [
       "<matplotlib.axes._subplots.AxesSubplot at 0x1a439bcc90>"
      ]
     },
     "execution_count": 33,
     "metadata": {},
     "output_type": "execute_result"
    },
    {
     "data": {
      "image/png": "[encoded data removed]",
      "text/plain": [
       "<Figure size 432x288 with 1 Axes>"
      ]
     },
     "metadata": {
      "needs_background": "light"
     },
     "output_type": "display_data"
    }
   ],
   "source": [
    "# Plot accuracy\n",
    "history_df.plot(y='accuracy')"
   ]
  },
  {
   "cell_type": "code",
   "execution_count": 35,
   "metadata": {},
   "outputs": [],
   "source": [
    "# Generate new Sequential model\n",
    "new_model = tf.keras.models.Sequential()"
   ]
  },
  {
   "cell_type": "code",
   "execution_count": 36,
   "metadata": {},
   "outputs": [],
   "source": [
    "# Add the input and hidden layer\n",
    "number_inputs = 2\n",
    "number_hidden_nodes = 6\n",
    "\n",
    "new_model.add(tf.keras.layers.Dense(units=number_hidden_nodes, activation='relu', input_dim=number_inputs))\n",
    "\n",
    "# Add the output layer that uses a probability activity function\n",
    "new_model.add(tf.keras.layers.Dense(units=1, activation='sigmoid'))"
   ]
  },
  {
   "cell_type": "code",
   "execution_count": 37,
   "metadata": {},
   "outputs": [
    {
     "name": "stdout",
     "output_type": "stream",
     "text": [
      "Train on 750 samples\n",
      "Epoch 1/100\n",
      "750/750 [==============================] - 1s 1ms/sample - loss: 1.1840 - accuracy: 0.3520\n",
      "Epoch 2/100\n",
      "750/750 [==============================] - 0s 116us/sample - loss: 1.1060 - accuracy: 0.4693\n",
      "Epoch 3/100\n",
      "750/750 [==============================] - 0s 177us/sample - loss: 1.0340 - accuracy: 0.5387\n",
      "Epoch 4/100\n",
      "750/750 [==============================] - 0s 145us/sample - loss: 0.9702 - accuracy: 0.5307\n",
      "Epoch 5/100\n",
      "750/750 [==============================] - 0s 126us/sample - loss: 0.9118 - accuracy: 0.5187\n",
      "Epoch 6/100\n",
      "750/750 [==============================] - 0s 159us/sample - loss: 0.8603 - accuracy: 0.5227\n",
      "Epoch 7/100\n",
      "750/750 [==============================] - 0s 143us/sample - loss: 0.8140 - accuracy: 0.5253\n",
      "Epoch 8/100\n",
      "750/750 [==============================] - 0s 113us/sample - loss: 0.7713 - accuracy: 0.5280\n",
      "Epoch 9/100\n",
      "750/750 [==============================] - 0s 102us/sample - loss: 0.7332 - accuracy: 0.5213\n",
      "Epoch 10/100\n",
      "750/750 [==============================] - 0s 110us/sample - loss: 0.6991 - accuracy: 0.5293\n",
      "Epoch 11/100\n",
      "750/750 [==============================] - 0s 115us/sample - loss: 0.6678 - accuracy: 0.5213\n",
      "Epoch 12/100\n",
      "750/750 [==============================] - 0s 116us/sample - loss: 0.6401 - accuracy: 0.5187\n",
      "Epoch 13/100\n",
      "750/750 [==============================] - 0s 99us/sample - loss: 0.6145 - accuracy: 0.5253\n",
      "Epoch 14/100\n",
      "750/750 [==============================] - 0s 121us/sample - loss: 0.5914 - accuracy: 0.5360\n",
      "Epoch 15/100\n",
      "750/750 [==============================] - 0s 102us/sample - loss: 0.5705 - accuracy: 0.5533\n",
      "Epoch 16/100\n",
      "750/750 [==============================] - 0s 111us/sample - loss: 0.5513 - accuracy: 0.5733\n",
      "Epoch 17/100\n",
      "750/750 [==============================] - 0s 127us/sample - loss: 0.5334 - accuracy: 0.5947\n",
      "Epoch 18/100\n",
      "750/750 [==============================] - 0s 123us/sample - loss: 0.5170 - accuracy: 0.6320\n",
      "Epoch 19/100\n",
      "750/750 [==============================] - 0s 115us/sample - loss: 0.5017 - accuracy: 0.6920\n",
      "Epoch 20/100\n",
      "750/750 [==============================] - 0s 116us/sample - loss: 0.4872 - accuracy: 0.7560\n",
      "Epoch 21/100\n",
      "750/750 [==============================] - 0s 118us/sample - loss: 0.4735 - accuracy: 0.7853\n",
      "Epoch 22/100\n",
      "750/750 [==============================] - 0s 109us/sample - loss: 0.4606 - accuracy: 0.8053\n",
      "Epoch 23/100\n",
      "750/750 [==============================] - 0s 108us/sample - loss: 0.4479 - accuracy: 0.8280\n",
      "Epoch 24/100\n",
      "750/750 [==============================] - 0s 144us/sample - loss: 0.4354 - accuracy: 0.8400\n",
      "Epoch 25/100\n",
      "750/750 [==============================] - 0s 161us/sample - loss: 0.4235 - accuracy: 0.8547\n",
      "Epoch 26/100\n",
      "750/750 [==============================] - 0s 125us/sample - loss: 0.4118 - accuracy: 0.8640\n",
      "Epoch 27/100\n",
      "750/750 [==============================] - 0s 109us/sample - loss: 0.4002 - accuracy: 0.8693\n",
      "Epoch 28/100\n",
      "750/750 [==============================] - 0s 104us/sample - loss: 0.3890 - accuracy: 0.8720\n",
      "Epoch 29/100\n",
      "750/750 [==============================] - 0s 110us/sample - loss: 0.3777 - accuracy: 0.8747\n",
      "Epoch 30/100\n",
      "750/750 [==============================] - 0s 105us/sample - loss: 0.3669 - accuracy: 0.8760\n",
      "Epoch 31/100\n",
      "750/750 [==============================] - 0s 120us/sample - loss: 0.3568 - accuracy: 0.8760\n",
      "Epoch 32/100\n",
      "750/750 [==============================] - 0s 114us/sample - loss: 0.3469 - accuracy: 0.8760\n",
      "Epoch 33/100\n",
      "750/750 [==============================] - 0s 126us/sample - loss: 0.3381 - accuracy: 0.8787\n",
      "Epoch 34/100\n",
      "750/750 [==============================] - 0s 125us/sample - loss: 0.3298 - accuracy: 0.8787\n",
      "Epoch 35/100\n",
      "750/750 [==============================] - 0s 112us/sample - loss: 0.3221 - accuracy: 0.8827\n",
      "Epoch 36/100\n",
      "750/750 [==============================] - 0s 110us/sample - loss: 0.3148 - accuracy: 0.8813\n",
      "Epoch 37/100\n",
      "750/750 [==============================] - 0s 111us/sample - loss: 0.3087 - accuracy: 0.8813\n",
      "Epoch 38/100\n",
      "750/750 [==============================] - 0s 125us/sample - loss: 0.3028 - accuracy: 0.8827\n",
      "Epoch 39/100\n",
      "750/750 [==============================] - 0s 141us/sample - loss: 0.2978 - accuracy: 0.8813\n",
      "Epoch 40/100\n",
      "750/750 [==============================] - 0s 130us/sample - loss: 0.2936 - accuracy: 0.8813\n",
      "Epoch 41/100\n",
      "750/750 [==============================] - 0s 149us/sample - loss: 0.2901 - accuracy: 0.8840\n",
      "Epoch 42/100\n",
      "750/750 [==============================] - 0s 114us/sample - loss: 0.2866 - accuracy: 0.8840\n",
      "Epoch 43/100\n",
      "750/750 [==============================] - 0s 122us/sample - loss: 0.2838 - accuracy: 0.8840\n",
      "Epoch 44/100\n",
      "750/750 [==============================] - 0s 115us/sample - loss: 0.2812 - accuracy: 0.8840\n",
      "Epoch 45/100\n",
      "750/750 [==============================] - 0s 117us/sample - loss: 0.2790 - accuracy: 0.8840\n",
      "Epoch 46/100\n",
      "750/750 [==============================] - 0s 118us/sample - loss: 0.2770 - accuracy: 0.8840\n",
      "Epoch 47/100\n",
      "750/750 [==============================] - 0s 127us/sample - loss: 0.2753 - accuracy: 0.8867\n",
      "Epoch 48/100\n",
      "750/750 [==============================] - 0s 121us/sample - loss: 0.2737 - accuracy: 0.8867\n",
      "Epoch 49/100\n",
      "750/750 [==============================] - 0s 142us/sample - loss: 0.2724 - accuracy: 0.8853\n",
      "Epoch 50/100\n",
      "750/750 [==============================] - 0s 142us/sample - loss: 0.2711 - accuracy: 0.8867 - loss: 0.2729 - accuracy: 0.88\n",
      "Epoch 51/100\n",
      "750/750 [==============================] - 0s 141us/sample - loss: 0.2698 - accuracy: 0.8880\n",
      "Epoch 52/100\n",
      "750/750 [==============================] - 0s 138us/sample - loss: 0.2688 - accuracy: 0.8880\n",
      "Epoch 53/100\n",
      "750/750 [==============================] - 0s 92us/sample - loss: 0.2679 - accuracy: 0.8880\n",
      "Epoch 54/100\n",
      "750/750 [==============================] - 0s 123us/sample - loss: 0.2670 - accuracy: 0.8880\n",
      "Epoch 55/100\n",
      "750/750 [==============================] - 0s 89us/sample - loss: 0.2661 - accuracy: 0.8880\n",
      "Epoch 56/100\n",
      "750/750 [==============================] - 0s 108us/sample - loss: 0.2654 - accuracy: 0.8880\n",
      "Epoch 57/100\n",
      "750/750 [==============================] - 0s 104us/sample - loss: 0.2648 - accuracy: 0.8880\n",
      "Epoch 58/100\n",
      "750/750 [==============================] - 0s 102us/sample - loss: 0.2641 - accuracy: 0.8880\n",
      "Epoch 59/100\n",
      "750/750 [==============================] - 0s 106us/sample - loss: 0.2635 - accuracy: 0.8880\n",
      "Epoch 60/100\n",
      "750/750 [==============================] - 0s 98us/sample - loss: 0.2630 - accuracy: 0.8880\n",
      "Epoch 61/100\n",
      "750/750 [==============================] - 0s 103us/sample - loss: 0.2624 - accuracy: 0.8880\n",
      "Epoch 62/100\n",
      "750/750 [==============================] - 0s 105us/sample - loss: 0.2620 - accuracy: 0.8880\n",
      "Epoch 63/100\n",
      "750/750 [==============================] - 0s 98us/sample - loss: 0.2616 - accuracy: 0.8880\n",
      "Epoch 64/100\n",
      "750/750 [==============================] - 0s 104us/sample - loss: 0.2612 - accuracy: 0.8893\n",
      "Epoch 65/100\n",
      "750/750 [==============================] - 0s 114us/sample - loss: 0.2608 - accuracy: 0.8907\n",
      "Epoch 66/100\n",
      "750/750 [==============================] - 0s 101us/sample - loss: 0.2605 - accuracy: 0.8893\n",
      "Epoch 67/100\n",
      "750/750 [==============================] - 0s 97us/sample - loss: 0.2602 - accuracy: 0.8893\n",
      "Epoch 68/100\n",
      "750/750 [==============================] - 0s 104us/sample - loss: 0.2598 - accuracy: 0.8893\n",
      "Epoch 69/100\n",
      "750/750 [==============================] - 0s 104us/sample - loss: 0.2596 - accuracy: 0.8893\n",
      "Epoch 70/100\n",
      "750/750 [==============================] - 0s 97us/sample - loss: 0.2593 - accuracy: 0.8880\n",
      "Epoch 71/100\n",
      "750/750 [==============================] - 0s 111us/sample - loss: 0.2590 - accuracy: 0.8893\n",
      "Epoch 72/100\n",
      "750/750 [==============================] - 0s 120us/sample - loss: 0.2588 - accuracy: 0.8893\n",
      "Epoch 73/100\n",
      "750/750 [==============================] - 0s 117us/sample - loss: 0.2585 - accuracy: 0.8893\n",
      "Epoch 74/100\n",
      "750/750 [==============================] - 0s 123us/sample - loss: 0.2584 - accuracy: 0.8893\n",
      "Epoch 75/100\n",
      "750/750 [==============================] - 0s 107us/sample - loss: 0.2581 - accuracy: 0.8893\n",
      "Epoch 76/100\n",
      "750/750 [==============================] - 0s 118us/sample - loss: 0.2579 - accuracy: 0.8893\n",
      "Epoch 77/100\n",
      "750/750 [==============================] - 0s 112us/sample - loss: 0.2577 - accuracy: 0.8907\n"
     ]
    },
    {
     "name": "stdout",
     "output_type": "stream",
     "text": [
      "Epoch 78/100\n",
      "750/750 [==============================] - 0s 111us/sample - loss: 0.2575 - accuracy: 0.8907\n",
      "Epoch 79/100\n",
      "750/750 [==============================] - 0s 88us/sample - loss: 0.2574 - accuracy: 0.8907\n",
      "Epoch 80/100\n",
      "750/750 [==============================] - 0s 102us/sample - loss: 0.2573 - accuracy: 0.8880\n",
      "Epoch 81/100\n",
      "750/750 [==============================] - 0s 98us/sample - loss: 0.2571 - accuracy: 0.8880s - loss: 0.2784 - accuracy: 0.87\n",
      "Epoch 82/100\n",
      "750/750 [==============================] - 0s 101us/sample - loss: 0.2570 - accuracy: 0.8867\n",
      "Epoch 83/100\n",
      "750/750 [==============================] - 0s 93us/sample - loss: 0.2568 - accuracy: 0.8880\n",
      "Epoch 84/100\n",
      "750/750 [==============================] - 0s 92us/sample - loss: 0.2567 - accuracy: 0.8880\n",
      "Epoch 85/100\n",
      "750/750 [==============================] - 0s 95us/sample - loss: 0.2565 - accuracy: 0.8867\n",
      "Epoch 86/100\n",
      "750/750 [==============================] - 0s 91us/sample - loss: 0.2563 - accuracy: 0.8867\n",
      "Epoch 87/100\n",
      "750/750 [==============================] - 0s 85us/sample - loss: 0.2563 - accuracy: 0.8880\n",
      "Epoch 88/100\n",
      "750/750 [==============================] - 0s 84us/sample - loss: 0.2562 - accuracy: 0.8880\n",
      "Epoch 89/100\n",
      "750/750 [==============================] - 0s 88us/sample - loss: 0.2559 - accuracy: 0.8880\n",
      "Epoch 90/100\n",
      "750/750 [==============================] - 0s 91us/sample - loss: 0.2559 - accuracy: 0.8867\n",
      "Epoch 91/100\n",
      "750/750 [==============================] - 0s 93us/sample - loss: 0.2558 - accuracy: 0.8880\n",
      "Epoch 92/100\n",
      "750/750 [==============================] - 0s 85us/sample - loss: 0.2556 - accuracy: 0.8880\n",
      "Epoch 93/100\n",
      "750/750 [==============================] - 0s 90us/sample - loss: 0.2557 - accuracy: 0.8867\n",
      "Epoch 94/100\n",
      "750/750 [==============================] - 0s 90us/sample - loss: 0.2555 - accuracy: 0.8880\n",
      "Epoch 95/100\n",
      "750/750 [==============================] - 0s 94us/sample - loss: 0.2553 - accuracy: 0.8867\n",
      "Epoch 96/100\n",
      "750/750 [==============================] - 0s 85us/sample - loss: 0.2551 - accuracy: 0.8880\n",
      "Epoch 97/100\n",
      "750/750 [==============================] - 0s 79us/sample - loss: 0.2551 - accuracy: 0.8880\n",
      "Epoch 98/100\n",
      "750/750 [==============================] - 0s 97us/sample - loss: 0.2550 - accuracy: 0.8880\n",
      "Epoch 99/100\n",
      "750/750 [==============================] - 0s 86us/sample - loss: 0.2549 - accuracy: 0.8880\n",
      "Epoch 100/100\n",
      "750/750 [==============================] - 0s 85us/sample - loss: 0.2548 - accuracy: 0.8867\n"
     ]
    }
   ],
   "source": [
    "# Compile the Sequential model together and customize metrics\n",
    "new_model.compile(loss='binary_crossentropy', optimizer='adam', metrics=[\"accuracy\"])\n",
    "\n",
    "# Fit the model to the training data\n",
    "new_fit_model = new_model.fit(X_moon_train_scaled, y_moon_train, epochs=100, shuffle=True)"
   ]
  },
  {
   "cell_type": "code",
   "execution_count": null,
   "metadata": {},
   "outputs": [],
   "source": []
  },
  {
   "cell_type": "code",
   "execution_count": null,
   "metadata": {},
   "outputs": [],
   "source": []
  }
 ],
 "metadata": {
  "kernelspec": {
   "display_name": "PythonData",
   "language": "python",
   "name": "pythondata"
  },
  "language_info": {
   "codemirror_mode": {
    "name": "ipython",
    "version": 3
   },
   "file_extension": ".py",
   "mimetype": "text/x-python",
   "name": "python",
   "nbconvert_exporter": "python",
   "pygments_lexer": "ipython3",
   "version": "3.7.6"
  }
 },
 "nbformat": 4,
 "nbformat_minor": 4
}
