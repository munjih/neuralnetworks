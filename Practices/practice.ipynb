{
 "cells": [
  {
   "cell_type": "code",
   "execution_count": 1,
   "metadata": {},
   "outputs": [],
   "source": [
    "# Import dependencies\n",
    "import pandas as pd\n",
    "import matplotlib as plt\n",
    "from sklearn.datasets import make_blobs\n",
    "import sklearn as skl\n",
    "import tensorflow as tf"
   ]
  },
  {
   "cell_type": "code",
   "execution_count": 2,
   "metadata": {},
   "outputs": [
    {
     "data": {
      "text/plain": [
       "<matplotlib.axes._subplots.AxesSubplot at 0x1a49b340d0>"
      ]
     },
     "execution_count": 2,
     "metadata": {},
     "output_type": "execute_result"
    },
    {
     "data": {
      "image/png": "[encoded data removed]",
      "text/plain": [
       "<Figure size 432x288 with 2 Axes>"
      ]
     },
     "metadata": {
      "needs_background": "light"
     },
     "output_type": "display_data"
    }
   ],
   "source": [
    "# Generate dummy dataset\n",
    "X, y = make_blobs(n_samples=1000, centers=2, n_features=2, random_state=1)\n",
    "\n",
    "# Creating a DataFrame with the dummy data\n",
    "df = pd.DataFrame(X, columns=['Feature 1', 'Feature 2'])\n",
    "df['Target'] = y\n",
    "\n",
    "# Plotting the dummy data\n",
    "df.plot.scatter(x='Feature 1', y='Feature 2', c='Target', colormap='winter')"
   ]
  },
  {
   "cell_type": "code",
   "execution_count": 3,
   "metadata": {},
   "outputs": [],
   "source": [
    "# Split dataset\n",
    "from sklearn.model_selection import train_test_split\n",
    "X_train, X_test, y_train, y_test = train_test_split(X, y, random_state=1)"
   ]
  },
  {
   "cell_type": "code",
   "execution_count": 4,
   "metadata": {},
   "outputs": [],
   "source": [
    "# Create scaler instance\n",
    "X_scaler = skl.preprocessing.StandardScaler()\n",
    "\n",
    "# Fit scaler\n",
    "X_scaler.fit(X_train)\n",
    "\n",
    "# Scale data\n",
    "X_train_scaled = X_scaler.transform(X_train)\n",
    "X_test_scaled = X_scaler.transform(X_test)"
   ]
  },
  {
   "cell_type": "code",
   "execution_count": 5,
   "metadata": {},
   "outputs": [],
   "source": [
    "# Create the Keras Sequential Model\n",
    "nn_model = tf.keras.models.Sequential()"
   ]
  },
  {
   "cell_type": "code",
   "execution_count": 6,
   "metadata": {},
   "outputs": [],
   "source": [
    "# Add first Dense layer, including input layer\n",
    "nn_model.add(tf.keras.layers.Dense(units=1, activation='relu', input_dim=2))"
   ]
  },
  {
   "cell_type": "code",
   "execution_count": 7,
   "metadata": {},
   "outputs": [],
   "source": [
    "# Add output layer\n",
    "nn_model.add(tf.keras.layers.Dense(units=1, activation='sigmoid'))"
   ]
  },
  {
   "cell_type": "code",
   "execution_count": 8,
   "metadata": {},
   "outputs": [
    {
     "name": "stdout",
     "output_type": "stream",
     "text": [
      "Model: \"sequential\"\n",
      "_________________________________________________________________\n",
      "Layer (type)                 Output Shape              Param #   \n",
      "=================================================================\n",
      "dense (Dense)                (None, 1)                 3         \n",
      "_________________________________________________________________\n",
      "dense_1 (Dense)              (None, 1)                 2         \n",
      "=================================================================\n",
      "Total params: 5\n",
      "Trainable params: 5\n",
      "Non-trainable params: 0\n",
      "_________________________________________________________________\n"
     ]
    }
   ],
   "source": [
    "# Check structure of the Sequential model\n",
    "nn_model.summary()"
   ]
  },
  {
   "cell_type": "code",
   "execution_count": 9,
   "metadata": {},
   "outputs": [],
   "source": [
    "# Compile the Sequential model and customize metrics\n",
    "nn_model.compile(loss='binary_crossentropy', optimizer='adam', metrics=['accuracy'])"
   ]
  },
  {
   "cell_type": "code",
   "execution_count": 10,
   "metadata": {},
   "outputs": [
    {
     "name": "stdout",
     "output_type": "stream",
     "text": [
      "Train on 750 samples\n",
      "Epoch 1/100\n",
      "750/750 [==============================] - 1s 2ms/sample - loss: 0.7855 - accuracy: 0.0160\n",
      "Epoch 2/100\n",
      "750/750 [==============================] - 0s 108us/sample - loss: 0.7693 - accuracy: 0.0000e+00\n",
      "Epoch 3/100\n",
      "750/750 [==============================] - 0s 103us/sample - loss: 0.7550 - accuracy: 0.0000e+00\n",
      "Epoch 4/100\n",
      "750/750 [==============================] - 0s 99us/sample - loss: 0.7426 - accuracy: 0.0000e+00\n",
      "Epoch 5/100\n",
      "750/750 [==============================] - 0s 90us/sample - loss: 0.7311 - accuracy: 0.0000e+00\n",
      "Epoch 6/100\n",
      "750/750 [==============================] - 0s 88us/sample - loss: 0.7211 - accuracy: 0.0000e+00\n",
      "Epoch 7/100\n",
      "750/750 [==============================] - 0s 89us/sample - loss: 0.7119 - accuracy: 0.0000e+00\n",
      "Epoch 8/100\n",
      "750/750 [==============================] - 0s 96us/sample - loss: 0.7034 - accuracy: 0.0200\n",
      "Epoch 9/100\n",
      "750/750 [==============================] - 0s 86us/sample - loss: 0.6953 - accuracy: 0.4480\n",
      "Epoch 10/100\n",
      "750/750 [==============================] - 0s 87us/sample - loss: 0.6875 - accuracy: 0.4920\n",
      "Epoch 11/100\n",
      "750/750 [==============================] - 0s 86us/sample - loss: 0.6796 - accuracy: 0.4920\n",
      "Epoch 12/100\n",
      "750/750 [==============================] - 0s 91us/sample - loss: 0.6716 - accuracy: 0.4920\n",
      "Epoch 13/100\n",
      "750/750 [==============================] - 0s 89us/sample - loss: 0.6630 - accuracy: 0.4920\n",
      "Epoch 14/100\n",
      "750/750 [==============================] - 0s 89us/sample - loss: 0.6538 - accuracy: 0.9107\n",
      "Epoch 15/100\n",
      "750/750 [==============================] - 0s 116us/sample - loss: 0.6437 - accuracy: 1.0000\n",
      "Epoch 16/100\n",
      "750/750 [==============================] - 0s 111us/sample - loss: 0.6325 - accuracy: 1.0000\n",
      "Epoch 17/100\n",
      "750/750 [==============================] - 0s 96us/sample - loss: 0.6202 - accuracy: 1.0000\n",
      "Epoch 18/100\n",
      "750/750 [==============================] - 0s 104us/sample - loss: 0.6068 - accuracy: 1.0000\n",
      "Epoch 19/100\n",
      "750/750 [==============================] - 0s 105us/sample - loss: 0.5925 - accuracy: 1.0000\n",
      "Epoch 20/100\n",
      "750/750 [==============================] - 0s 102us/sample - loss: 0.5774 - accuracy: 1.0000\n",
      "Epoch 21/100\n",
      "750/750 [==============================] - 0s 106us/sample - loss: 0.5616 - accuracy: 1.0000\n",
      "Epoch 22/100\n",
      "750/750 [==============================] - 0s 101us/sample - loss: 0.5451 - accuracy: 1.0000\n",
      "Epoch 23/100\n",
      "750/750 [==============================] - 0s 103us/sample - loss: 0.5284 - accuracy: 1.0000\n",
      "Epoch 24/100\n",
      "750/750 [==============================] - 0s 114us/sample - loss: 0.5115 - accuracy: 1.0000\n",
      "Epoch 25/100\n",
      "750/750 [==============================] - 0s 100us/sample - loss: 0.4946 - accuracy: 1.0000\n",
      "Epoch 26/100\n",
      "750/750 [==============================] - 0s 101us/sample - loss: 0.4779 - accuracy: 1.0000\n",
      "Epoch 27/100\n",
      "750/750 [==============================] - 0s 99us/sample - loss: 0.4615 - accuracy: 1.0000\n",
      "Epoch 28/100\n",
      "750/750 [==============================] - 0s 107us/sample - loss: 0.4454 - accuracy: 1.0000\n",
      "Epoch 29/100\n",
      "750/750 [==============================] - 0s 110us/sample - loss: 0.4299 - accuracy: 1.0000\n",
      "Epoch 30/100\n",
      "750/750 [==============================] - 0s 114us/sample - loss: 0.4148 - accuracy: 1.0000\n",
      "Epoch 31/100\n",
      "750/750 [==============================] - 0s 131us/sample - loss: 0.4004 - accuracy: 1.0000\n",
      "Epoch 32/100\n",
      "750/750 [==============================] - 0s 103us/sample - loss: 0.3866 - accuracy: 1.0000\n",
      "Epoch 33/100\n",
      "750/750 [==============================] - 0s 104us/sample - loss: 0.3733 - accuracy: 1.0000\n",
      "Epoch 34/100\n",
      "750/750 [==============================] - 0s 99us/sample - loss: 0.3607 - accuracy: 1.0000\n",
      "Epoch 35/100\n",
      "750/750 [==============================] - 0s 107us/sample - loss: 0.3486 - accuracy: 1.0000\n",
      "Epoch 36/100\n",
      "750/750 [==============================] - 0s 101us/sample - loss: 0.3371 - accuracy: 1.0000\n",
      "Epoch 37/100\n",
      "750/750 [==============================] - 0s 103us/sample - loss: 0.3261 - accuracy: 1.0000\n",
      "Epoch 38/100\n",
      "750/750 [==============================] - 0s 107us/sample - loss: 0.3157 - accuracy: 1.0000\n",
      "Epoch 39/100\n",
      "750/750 [==============================] - 0s 100us/sample - loss: 0.3058 - accuracy: 1.0000\n",
      "Epoch 40/100\n",
      "750/750 [==============================] - 0s 110us/sample - loss: 0.2964 - accuracy: 1.0000\n",
      "Epoch 41/100\n",
      "750/750 [==============================] - 0s 94us/sample - loss: 0.2874 - accuracy: 1.0000\n",
      "Epoch 42/100\n",
      "750/750 [==============================] - 0s 105us/sample - loss: 0.2789 - accuracy: 1.0000\n",
      "Epoch 43/100\n",
      "750/750 [==============================] - 0s 100us/sample - loss: 0.2708 - accuracy: 1.0000\n",
      "Epoch 44/100\n",
      "750/750 [==============================] - 0s 101us/sample - loss: 0.2630 - accuracy: 1.0000\n",
      "Epoch 45/100\n",
      "750/750 [==============================] - 0s 107us/sample - loss: 0.2556 - accuracy: 1.0000\n",
      "Epoch 46/100\n",
      "750/750 [==============================] - 0s 102us/sample - loss: 0.2485 - accuracy: 1.0000\n",
      "Epoch 47/100\n",
      "750/750 [==============================] - 0s 103us/sample - loss: 0.2417 - accuracy: 1.0000\n",
      "Epoch 48/100\n",
      "750/750 [==============================] - 0s 104us/sample - loss: 0.2353 - accuracy: 1.0000\n",
      "Epoch 49/100\n",
      "750/750 [==============================] - 0s 102us/sample - loss: 0.2291 - accuracy: 1.0000\n",
      "Epoch 50/100\n",
      "750/750 [==============================] - 0s 127us/sample - loss: 0.2232 - accuracy: 1.0000\n",
      "Epoch 51/100\n",
      "750/750 [==============================] - 0s 114us/sample - loss: 0.2175 - accuracy: 1.0000\n",
      "Epoch 52/100\n",
      "750/750 [==============================] - 0s 98us/sample - loss: 0.2121 - accuracy: 1.0000\n",
      "Epoch 53/100\n",
      "750/750 [==============================] - 0s 115us/sample - loss: 0.2068 - accuracy: 1.0000\n",
      "Epoch 54/100\n",
      "750/750 [==============================] - 0s 98us/sample - loss: 0.2018 - accuracy: 1.0000\n",
      "Epoch 55/100\n",
      "750/750 [==============================] - 0s 100us/sample - loss: 0.1969 - accuracy: 1.0000\n",
      "Epoch 56/100\n",
      "750/750 [==============================] - 0s 93us/sample - loss: 0.1923 - accuracy: 1.0000\n",
      "Epoch 57/100\n",
      "750/750 [==============================] - 0s 105us/sample - loss: 0.1878 - accuracy: 1.0000\n",
      "Epoch 58/100\n",
      "750/750 [==============================] - 0s 105us/sample - loss: 0.1835 - accuracy: 1.0000\n",
      "Epoch 59/100\n",
      "750/750 [==============================] - 0s 96us/sample - loss: 0.1793 - accuracy: 1.0000\n",
      "Epoch 60/100\n",
      "750/750 [==============================] - 0s 97us/sample - loss: 0.1753 - accuracy: 1.0000\n",
      "Epoch 61/100\n",
      "750/750 [==============================] - 0s 91us/sample - loss: 0.1714 - accuracy: 1.0000\n",
      "Epoch 62/100\n",
      "750/750 [==============================] - 0s 97us/sample - loss: 0.1676 - accuracy: 1.0000\n",
      "Epoch 63/100\n",
      "750/750 [==============================] - 0s 88us/sample - loss: 0.1640 - accuracy: 1.0000\n",
      "Epoch 64/100\n",
      "750/750 [==============================] - 0s 98us/sample - loss: 0.1605 - accuracy: 1.0000\n",
      "Epoch 65/100\n",
      "750/750 [==============================] - 0s 97us/sample - loss: 0.1571 - accuracy: 1.0000\n",
      "Epoch 66/100\n",
      "750/750 [==============================] - 0s 87us/sample - loss: 0.1539 - accuracy: 1.0000\n",
      "Epoch 67/100\n",
      "750/750 [==============================] - 0s 103us/sample - loss: 0.1507 - accuracy: 1.0000 - loss: 0.1505 - accuracy: 1.00\n",
      "Epoch 68/100\n",
      "750/750 [==============================] - 0s 99us/sample - loss: 0.1476 - accuracy: 1.0000\n",
      "Epoch 69/100\n",
      "750/750 [==============================] - 0s 96us/sample - loss: 0.1446 - accuracy: 1.0000\n",
      "Epoch 70/100\n",
      "750/750 [==============================] - 0s 94us/sample - loss: 0.1417 - accuracy: 1.0000\n",
      "Epoch 71/100\n",
      "750/750 [==============================] - 0s 96us/sample - loss: 0.1389 - accuracy: 1.0000\n",
      "Epoch 72/100\n",
      "750/750 [==============================] - 0s 89us/sample - loss: 0.1362 - accuracy: 1.0000\n",
      "Epoch 73/100\n",
      "750/750 [==============================] - 0s 92us/sample - loss: 0.1336 - accuracy: 1.0000\n",
      "Epoch 74/100\n",
      "750/750 [==============================] - 0s 93us/sample - loss: 0.1310 - accuracy: 1.0000\n",
      "Epoch 75/100\n",
      "750/750 [==============================] - 0s 100us/sample - loss: 0.1285 - accuracy: 1.0000\n",
      "Epoch 76/100\n",
      "750/750 [==============================] - 0s 94us/sample - loss: 0.1261 - accuracy: 1.0000\n",
      "Epoch 77/100\n",
      "750/750 [==============================] - 0s 107us/sample - loss: 0.1237 - accuracy: 1.0000\n"
     ]
    },
    {
     "name": "stdout",
     "output_type": "stream",
     "text": [
      "Epoch 78/100\n",
      "750/750 [==============================] - 0s 95us/sample - loss: 0.1214 - accuracy: 1.0000\n",
      "Epoch 79/100\n",
      "750/750 [==============================] - 0s 79us/sample - loss: 0.1192 - accuracy: 1.0000\n",
      "Epoch 80/100\n",
      "750/750 [==============================] - 0s 83us/sample - loss: 0.1170 - accuracy: 1.0000\n",
      "Epoch 81/100\n",
      "750/750 [==============================] - 0s 84us/sample - loss: 0.1149 - accuracy: 1.0000\n",
      "Epoch 82/100\n",
      "750/750 [==============================] - 0s 83us/sample - loss: 0.1129 - accuracy: 1.0000\n",
      "Epoch 83/100\n",
      "750/750 [==============================] - 0s 78us/sample - loss: 0.1109 - accuracy: 1.0000\n",
      "Epoch 84/100\n",
      "750/750 [==============================] - 0s 83us/sample - loss: 0.1089 - accuracy: 1.0000\n",
      "Epoch 85/100\n",
      "750/750 [==============================] - 0s 86us/sample - loss: 0.1070 - accuracy: 1.0000\n",
      "Epoch 86/100\n",
      "750/750 [==============================] - 0s 84us/sample - loss: 0.1051 - accuracy: 1.0000\n",
      "Epoch 87/100\n",
      "750/750 [==============================] - 0s 85us/sample - loss: 0.1033 - accuracy: 1.0000\n",
      "Epoch 88/100\n",
      "750/750 [==============================] - 0s 86us/sample - loss: 0.1016 - accuracy: 1.0000\n",
      "Epoch 89/100\n",
      "750/750 [==============================] - 0s 92us/sample - loss: 0.0998 - accuracy: 1.0000\n",
      "Epoch 90/100\n",
      "750/750 [==============================] - ETA: 0s - loss: 0.0856 - accuracy: 1.00 - ETA: 0s - loss: 0.0985 - accuracy: 1.00 - 0s 86us/sample - loss: 0.0981 - accuracy: 1.0000\n",
      "Epoch 91/100\n",
      "750/750 [==============================] - 0s 89us/sample - loss: 0.0965 - accuracy: 1.0000\n",
      "Epoch 92/100\n",
      "750/750 [==============================] - 0s 86us/sample - loss: 0.0949 - accuracy: 1.0000\n",
      "Epoch 93/100\n",
      "750/750 [==============================] - 0s 86us/sample - loss: 0.0933 - accuracy: 1.0000\n",
      "Epoch 94/100\n",
      "750/750 [==============================] - 0s 88us/sample - loss: 0.0918 - accuracy: 1.0000\n",
      "Epoch 95/100\n",
      "750/750 [==============================] - 0s 87us/sample - loss: 0.0903 - accuracy: 1.0000\n",
      "Epoch 96/100\n",
      "750/750 [==============================] - 0s 87us/sample - loss: 0.0888 - accuracy: 1.0000\n",
      "Epoch 97/100\n",
      "750/750 [==============================] - ETA: 0s - loss: 0.0871 - accuracy: 1.00 - 0s 89us/sample - loss: 0.0874 - accuracy: 1.0000\n",
      "Epoch 98/100\n",
      "750/750 [==============================] - 0s 95us/sample - loss: 0.0860 - accuracy: 1.0000\n",
      "Epoch 99/100\n",
      "750/750 [==============================] - 0s 101us/sample - loss: 0.0846 - accuracy: 1.0000\n",
      "Epoch 100/100\n",
      "750/750 [==============================] - 0s 107us/sample - loss: 0.0833 - accuracy: 1.0000\n"
     ]
    }
   ],
   "source": [
    "# Fit model to the training data\n",
    "fit_model = nn_model.fit(X_train_scaled, y_train, epochs=100)"
   ]
  },
  {
   "cell_type": "code",
   "execution_count": 11,
   "metadata": {},
   "outputs": [
    {
     "data": {
      "text/plain": [
       "<matplotlib.axes._subplots.AxesSubplot at 0x1a4aa89390>"
      ]
     },
     "execution_count": 11,
     "metadata": {},
     "output_type": "execute_result"
    },
    {
     "data": {
      "image/png": "[encoded data removed]",
      "text/plain": [
       "<Figure size 432x288 with 1 Axes>"
      ]
     },
     "metadata": {
      "needs_background": "light"
     },
     "output_type": "display_data"
    }
   ],
   "source": [
    "# Create a DataFrame containing training history\n",
    "history_df = pd.DataFrame(fit_model.history, index=range(1,len(fit_model.history['loss'])+1))\n",
    "\n",
    "# Plot the loss\n",
    "history_df.plot(y='loss')"
   ]
  },
  {
   "cell_type": "code",
   "execution_count": 12,
   "metadata": {},
   "outputs": [
    {
     "data": {
      "text/plain": [
       "<matplotlib.axes._subplots.AxesSubplot at 0x1a4b23bf90>"
      ]
     },
     "execution_count": 12,
     "metadata": {},
     "output_type": "execute_result"
    },
    {
     "data": {
      "image/png": "[encoded data removed]",
      "text/plain": [
       "<Figure size 432x288 with 1 Axes>"
      ]
     },
     "metadata": {
      "needs_background": "light"
     },
     "output_type": "display_data"
    }
   ],
   "source": [
    "#  Plot the accuracy\n",
    "history_df.plot(y='accuracy')"
   ]
  },
  {
   "cell_type": "code",
   "execution_count": 13,
   "metadata": {},
   "outputs": [
    {
     "name": "stdout",
     "output_type": "stream",
     "text": [
      "250/1 - 0s - loss: 0.0691 - accuracy: 1.0000\n",
      "Loss: 0.07854499852657318, Accuracy: 1.0\n"
     ]
    }
   ],
   "source": [
    "# Evaluate the model using test data\n",
    "model_loss, model_accuracy = nn_model.evaluate(X_test_scaled, y_test, verbose=2)\n",
    "print(f'Loss: {model_loss}, Accuracy: {model_accuracy}')"
   ]
  },
  {
   "cell_type": "code",
   "execution_count": 14,
   "metadata": {},
   "outputs": [
    {
     "data": {
      "text/plain": [
       "array([[1],\n",
       "       [1],\n",
       "       [1],\n",
       "       [1],\n",
       "       [0],\n",
       "       [0],\n",
       "       [0],\n",
       "       [1],\n",
       "       [0],\n",
       "       [0]], dtype=int32)"
      ]
     },
     "execution_count": 14,
     "metadata": {},
     "output_type": "execute_result"
    }
   ],
   "source": [
    "# Predict the classification of a new set of blob data\n",
    "new_X, new_Y = make_blobs(n_samples=10, centers=2, n_features=2, random_state=1)\n",
    "new_X_scaled = X_scaler.transform(new_X)\n",
    "nn_model.predict_classes(new_X_scaled)"
   ]
  },
  {
   "cell_type": "code",
   "execution_count": 15,
   "metadata": {},
   "outputs": [
    {
     "data": {
      "text/plain": [
       "<matplotlib.axes._subplots.AxesSubplot at 0x1a4b359d90>"
      ]
     },
     "execution_count": 15,
     "metadata": {},
     "output_type": "execute_result"
    },
    {
     "data": {
      "image/png": "[encoded data removed]",
      "text/plain": [
       "<Figure size 432x288 with 2 Axes>"
      ]
     },
     "metadata": {
      "needs_background": "light"
     },
     "output_type": "display_data"
    }
   ],
   "source": [
    "from sklearn.datasets import make_moons\n",
    "\n",
    "# Create dummy nonlinear data\n",
    "X_moons, y_moons = make_moons(n_samples=1000, noise=0.08, random_state=1)\n",
    "\n",
    "# Transform y_moons to a vertical vector\n",
    "y_moons = y_moons.reshape(-1, 1)\n",
    "\n",
    "# Create DataFrame to plot the nonlinear dummy data\n",
    "df_moons = pd.DataFrame(X_moons, columns=['Feature 1', 'Feature 2'])\n",
    "df_moons['Target'] = y_moons\n",
    "\n",
    "# Plot the nonlinear dummy data\n",
    "df_moons.plot.scatter(x='Feature 1', y='Feature 2', c='Target', colormap='winter')"
   ]
  },
  {
   "cell_type": "code",
   "execution_count": 16,
   "metadata": {},
   "outputs": [],
   "source": [
    "# Create training and testing sets\n",
    "X_moon_train, X_moon_test, y_moon_train, y_moon_test = train_test_split(X_moons, y_moons, random_state=1)\n",
    "\n",
    "# Create the scaler instance\n",
    "X_moon_scaler = skl.preprocessing.StandardScaler()\n",
    "\n",
    "# Fit scaler\n",
    "X_moon_scaler.fit(X_moon_train)\n",
    "\n",
    "# Scale data\n",
    "X_moon_train_scaled = X_moon_scaler.transform(X_moon_train)\n",
    "X_moon_test_scaled = X_moon_scaler.transform(X_moon_test)"
   ]
  },
  {
   "cell_type": "code",
   "execution_count": 17,
   "metadata": {},
   "outputs": [
    {
     "name": "stdout",
     "output_type": "stream",
     "text": [
      "Train on 750 samples\n",
      "Epoch 1/100\n",
      "750/750 [==============================] - 0s 176us/sample - loss: 0.7497 - accuracy: 0.7107\n",
      "Epoch 2/100\n",
      "750/750 [==============================] - 0s 114us/sample - loss: 0.7018 - accuracy: 0.7147\n",
      "Epoch 3/100\n",
      "750/750 [==============================] - 0s 110us/sample - loss: 0.6647 - accuracy: 0.7253\n",
      "Epoch 4/100\n",
      "750/750 [==============================] - 0s 107us/sample - loss: 0.6374 - accuracy: 0.7253\n",
      "Epoch 5/100\n",
      "750/750 [==============================] - 0s 110us/sample - loss: 0.6161 - accuracy: 0.7267\n",
      "Epoch 6/100\n",
      "750/750 [==============================] - 0s 108us/sample - loss: 0.5996 - accuracy: 0.7293\n",
      "Epoch 7/100\n",
      "750/750 [==============================] - 0s 105us/sample - loss: 0.5854 - accuracy: 0.7320\n",
      "Epoch 8/100\n",
      "750/750 [==============================] - 0s 105us/sample - loss: 0.5730 - accuracy: 0.7373\n",
      "Epoch 9/100\n",
      "750/750 [==============================] - 0s 115us/sample - loss: 0.5620 - accuracy: 0.7427\n",
      "Epoch 10/100\n",
      "750/750 [==============================] - 0s 109us/sample - loss: 0.5524 - accuracy: 0.7427\n",
      "Epoch 11/100\n",
      "750/750 [==============================] - 0s 137us/sample - loss: 0.5436 - accuracy: 0.7467\n",
      "Epoch 12/100\n",
      "750/750 [==============================] - 0s 113us/sample - loss: 0.5356 - accuracy: 0.7507\n",
      "Epoch 13/100\n",
      "750/750 [==============================] - 0s 96us/sample - loss: 0.5284 - accuracy: 0.7573\n",
      "Epoch 14/100\n",
      "750/750 [==============================] - 0s 119us/sample - loss: 0.5213 - accuracy: 0.7613\n",
      "Epoch 15/100\n",
      "750/750 [==============================] - 0s 115us/sample - loss: 0.5148 - accuracy: 0.7587\n",
      "Epoch 16/100\n",
      "750/750 [==============================] - 0s 102us/sample - loss: 0.5087 - accuracy: 0.7613\n",
      "Epoch 17/100\n",
      "750/750 [==============================] - 0s 133us/sample - loss: 0.5028 - accuracy: 0.7640\n",
      "Epoch 18/100\n",
      "750/750 [==============================] - 0s 110us/sample - loss: 0.4971 - accuracy: 0.7653\n",
      "Epoch 19/100\n",
      "750/750 [==============================] - 0s 117us/sample - loss: 0.4915 - accuracy: 0.7653\n",
      "Epoch 20/100\n",
      "750/750 [==============================] - 0s 121us/sample - loss: 0.4864 - accuracy: 0.7653\n",
      "Epoch 21/100\n",
      "750/750 [==============================] - 0s 122us/sample - loss: 0.4815 - accuracy: 0.7693\n",
      "Epoch 22/100\n",
      "750/750 [==============================] - 0s 104us/sample - loss: 0.4768 - accuracy: 0.7720\n",
      "Epoch 23/100\n",
      "750/750 [==============================] - 0s 111us/sample - loss: 0.4723 - accuracy: 0.7773\n",
      "Epoch 24/100\n",
      "750/750 [==============================] - 0s 107us/sample - loss: 0.4678 - accuracy: 0.7800\n",
      "Epoch 25/100\n",
      "750/750 [==============================] - 0s 109us/sample - loss: 0.4636 - accuracy: 0.7813\n",
      "Epoch 26/100\n",
      "750/750 [==============================] - 0s 109us/sample - loss: 0.4596 - accuracy: 0.7853\n",
      "Epoch 27/100\n",
      "750/750 [==============================] - 0s 104us/sample - loss: 0.4559 - accuracy: 0.7853\n",
      "Epoch 28/100\n",
      "750/750 [==============================] - 0s 108us/sample - loss: 0.4521 - accuracy: 0.7893\n",
      "Epoch 29/100\n",
      "750/750 [==============================] - 0s 103us/sample - loss: 0.4487 - accuracy: 0.7893\n",
      "Epoch 30/100\n",
      "750/750 [==============================] - 0s 110us/sample - loss: 0.4454 - accuracy: 0.7920\n",
      "Epoch 31/100\n",
      "750/750 [==============================] - 0s 98us/sample - loss: 0.4420 - accuracy: 0.7933\n",
      "Epoch 32/100\n",
      "750/750 [==============================] - 0s 114us/sample - loss: 0.4389 - accuracy: 0.7933\n",
      "Epoch 33/100\n",
      "750/750 [==============================] - 0s 108us/sample - loss: 0.4357 - accuracy: 0.7947\n",
      "Epoch 34/100\n",
      "750/750 [==============================] - 0s 113us/sample - loss: 0.4326 - accuracy: 0.7947\n",
      "Epoch 35/100\n",
      "750/750 [==============================] - 0s 137us/sample - loss: 0.4295 - accuracy: 0.7947\n",
      "Epoch 36/100\n",
      "750/750 [==============================] - 0s 114us/sample - loss: 0.4264 - accuracy: 0.7960\n",
      "Epoch 37/100\n",
      "750/750 [==============================] - 0s 114us/sample - loss: 0.4233 - accuracy: 0.7960\n",
      "Epoch 38/100\n",
      "750/750 [==============================] - 0s 104us/sample - loss: 0.4204 - accuracy: 0.7973\n",
      "Epoch 39/100\n",
      "750/750 [==============================] - 0s 116us/sample - loss: 0.4175 - accuracy: 0.8013\n",
      "Epoch 40/100\n",
      "750/750 [==============================] - 0s 119us/sample - loss: 0.4146 - accuracy: 0.8040\n",
      "Epoch 41/100\n",
      "750/750 [==============================] - 0s 106us/sample - loss: 0.4119 - accuracy: 0.8040\n",
      "Epoch 42/100\n",
      "750/750 [==============================] - 0s 113us/sample - loss: 0.4091 - accuracy: 0.8040\n",
      "Epoch 43/100\n",
      "750/750 [==============================] - 0s 132us/sample - loss: 0.4063 - accuracy: 0.8027\n",
      "Epoch 44/100\n",
      "750/750 [==============================] - 0s 105us/sample - loss: 0.4036 - accuracy: 0.8067\n",
      "Epoch 45/100\n",
      "750/750 [==============================] - 0s 104us/sample - loss: 0.4009 - accuracy: 0.8053\n",
      "Epoch 46/100\n",
      "750/750 [==============================] - 0s 123us/sample - loss: 0.3984 - accuracy: 0.8080\n",
      "Epoch 47/100\n",
      "750/750 [==============================] - 0s 119us/sample - loss: 0.3959 - accuracy: 0.8093\n",
      "Epoch 48/100\n",
      "750/750 [==============================] - 0s 103us/sample - loss: 0.3936 - accuracy: 0.8093\n",
      "Epoch 49/100\n",
      "750/750 [==============================] - 0s 127us/sample - loss: 0.3912 - accuracy: 0.8107\n",
      "Epoch 50/100\n",
      "750/750 [==============================] - 0s 120us/sample - loss: 0.3888 - accuracy: 0.8107\n",
      "Epoch 51/100\n",
      "750/750 [==============================] - 0s 111us/sample - loss: 0.3864 - accuracy: 0.8133\n",
      "Epoch 52/100\n",
      "750/750 [==============================] - 0s 106us/sample - loss: 0.3841 - accuracy: 0.8147\n",
      "Epoch 53/100\n",
      "750/750 [==============================] - 0s 157us/sample - loss: 0.3818 - accuracy: 0.8147\n",
      "Epoch 54/100\n",
      "750/750 [==============================] - 0s 128us/sample - loss: 0.3797 - accuracy: 0.8147\n",
      "Epoch 55/100\n",
      "750/750 [==============================] - 0s 107us/sample - loss: 0.3774 - accuracy: 0.8160\n",
      "Epoch 56/100\n",
      "750/750 [==============================] - 0s 112us/sample - loss: 0.3754 - accuracy: 0.8173\n",
      "Epoch 57/100\n",
      "750/750 [==============================] - 0s 113us/sample - loss: 0.3734 - accuracy: 0.8173\n",
      "Epoch 58/100\n",
      "750/750 [==============================] - 0s 121us/sample - loss: 0.3714 - accuracy: 0.8173\n",
      "Epoch 59/100\n",
      "750/750 [==============================] - 0s 110us/sample - loss: 0.3693 - accuracy: 0.8187\n",
      "Epoch 60/100\n",
      "750/750 [==============================] - 0s 111us/sample - loss: 0.3673 - accuracy: 0.8227\n",
      "Epoch 61/100\n",
      "750/750 [==============================] - 0s 112us/sample - loss: 0.3655 - accuracy: 0.8253\n",
      "Epoch 62/100\n",
      "750/750 [==============================] - 0s 112us/sample - loss: 0.3634 - accuracy: 0.8307\n",
      "Epoch 63/100\n",
      "750/750 [==============================] - 0s 103us/sample - loss: 0.3616 - accuracy: 0.8307\n",
      "Epoch 64/100\n",
      "750/750 [==============================] - 0s 105us/sample - loss: 0.3597 - accuracy: 0.8320\n",
      "Epoch 65/100\n",
      "750/750 [==============================] - 0s 113us/sample - loss: 0.3578 - accuracy: 0.8333\n",
      "Epoch 66/100\n",
      "750/750 [==============================] - 0s 108us/sample - loss: 0.3558 - accuracy: 0.8320\n",
      "Epoch 67/100\n",
      "750/750 [==============================] - 0s 107us/sample - loss: 0.3538 - accuracy: 0.8320\n",
      "Epoch 68/100\n",
      "750/750 [==============================] - 0s 115us/sample - loss: 0.3519 - accuracy: 0.8347\n",
      "Epoch 69/100\n",
      "750/750 [==============================] - 0s 115us/sample - loss: 0.3499 - accuracy: 0.8360\n",
      "Epoch 70/100\n",
      "750/750 [==============================] - 0s 106us/sample - loss: 0.3481 - accuracy: 0.8360\n",
      "Epoch 71/100\n",
      "750/750 [==============================] - 0s 115us/sample - loss: 0.3463 - accuracy: 0.8373\n",
      "Epoch 72/100\n",
      "750/750 [==============================] - 0s 115us/sample - loss: 0.3445 - accuracy: 0.8373\n",
      "Epoch 73/100\n",
      "750/750 [==============================] - 0s 118us/sample - loss: 0.3424 - accuracy: 0.8373\n",
      "Epoch 74/100\n",
      "750/750 [==============================] - 0s 117us/sample - loss: 0.3404 - accuracy: 0.8400\n",
      "Epoch 75/100\n",
      "750/750 [==============================] - 0s 107us/sample - loss: 0.3386 - accuracy: 0.8413\n",
      "Epoch 76/100\n",
      "750/750 [==============================] - 0s 104us/sample - loss: 0.3367 - accuracy: 0.8413\n",
      "Epoch 77/100\n",
      "750/750 [==============================] - 0s 100us/sample - loss: 0.3349 - accuracy: 0.8413\n",
      "Epoch 78/100\n"
     ]
    },
    {
     "name": "stdout",
     "output_type": "stream",
     "text": [
      "750/750 [==============================] - 0s 114us/sample - loss: 0.3331 - accuracy: 0.8440\n",
      "Epoch 79/100\n",
      "750/750 [==============================] - 0s 97us/sample - loss: 0.3314 - accuracy: 0.8453\n",
      "Epoch 80/100\n",
      "750/750 [==============================] - 0s 96us/sample - loss: 0.3297 - accuracy: 0.8427\n",
      "Epoch 81/100\n",
      "750/750 [==============================] - 0s 89us/sample - loss: 0.3280 - accuracy: 0.8440\n",
      "Epoch 82/100\n",
      "750/750 [==============================] - 0s 88us/sample - loss: 0.3265 - accuracy: 0.8440\n",
      "Epoch 83/100\n",
      "750/750 [==============================] - 0s 91us/sample - loss: 0.3249 - accuracy: 0.8440\n",
      "Epoch 84/100\n",
      "750/750 [==============================] - 0s 89us/sample - loss: 0.3233 - accuracy: 0.8480\n",
      "Epoch 85/100\n",
      "750/750 [==============================] - 0s 89us/sample - loss: 0.3219 - accuracy: 0.8493\n",
      "Epoch 86/100\n",
      "750/750 [==============================] - 0s 90us/sample - loss: 0.3204 - accuracy: 0.8480\n",
      "Epoch 87/100\n",
      "750/750 [==============================] - 0s 88us/sample - loss: 0.3190 - accuracy: 0.8493\n",
      "Epoch 88/100\n",
      "750/750 [==============================] - 0s 90us/sample - loss: 0.3176 - accuracy: 0.8493\n",
      "Epoch 89/100\n",
      "750/750 [==============================] - 0s 90us/sample - loss: 0.3162 - accuracy: 0.8493\n",
      "Epoch 90/100\n",
      "750/750 [==============================] - 0s 91us/sample - loss: 0.3149 - accuracy: 0.8507\n",
      "Epoch 91/100\n",
      "750/750 [==============================] - 0s 94us/sample - loss: 0.3136 - accuracy: 0.8507\n",
      "Epoch 92/100\n",
      "750/750 [==============================] - 0s 92us/sample - loss: 0.3123 - accuracy: 0.8493\n",
      "Epoch 93/100\n",
      "750/750 [==============================] - 0s 91us/sample - loss: 0.3110 - accuracy: 0.8507\n",
      "Epoch 94/100\n",
      "750/750 [==============================] - 0s 91us/sample - loss: 0.3098 - accuracy: 0.8533\n",
      "Epoch 95/100\n",
      "750/750 [==============================] - 0s 93us/sample - loss: 0.3085 - accuracy: 0.8520\n",
      "Epoch 96/100\n",
      "750/750 [==============================] - 0s 93us/sample - loss: 0.3073 - accuracy: 0.8547\n",
      "Epoch 97/100\n",
      "750/750 [==============================] - 0s 92us/sample - loss: 0.3061 - accuracy: 0.8560\n",
      "Epoch 98/100\n",
      "750/750 [==============================] - 0s 92us/sample - loss: 0.3049 - accuracy: 0.8573\n",
      "Epoch 99/100\n",
      "750/750 [==============================] - 0s 93us/sample - loss: 0.3038 - accuracy: 0.8600\n",
      "Epoch 100/100\n",
      "750/750 [==============================] - 0s 93us/sample - loss: 0.3027 - accuracy: 0.8613\n"
     ]
    }
   ],
   "source": [
    "# Train model with nonlinear data\n",
    "model_moon = nn_model.fit(X_moon_train_scaled, y_moon_train, epochs=100, shuffle=True)"
   ]
  },
  {
   "cell_type": "code",
   "execution_count": 18,
   "metadata": {},
   "outputs": [
    {
     "data": {
      "text/plain": [
       "<matplotlib.axes._subplots.AxesSubplot at 0x1a4b8095d0>"
      ]
     },
     "execution_count": 18,
     "metadata": {},
     "output_type": "execute_result"
    },
    {
     "data": {
      "image/png": "[encoded data removed]",
      "text/plain": [
       "<Figure size 432x288 with 1 Axes>"
      ]
     },
     "metadata": {
      "needs_background": "light"
     },
     "output_type": "display_data"
    }
   ],
   "source": [
    "# Create DataFrame containing training history\n",
    "history_df = pd.DataFrame(model_moon.history, index=range(1,len(model_moon.history['loss'])+1))\n",
    "\n",
    "# Plot DataFrame\n",
    "history_df.plot(y='loss')"
   ]
  },
  {
   "cell_type": "code",
   "execution_count": 19,
   "metadata": {},
   "outputs": [
    {
     "data": {
      "text/plain": [
       "<matplotlib.axes._subplots.AxesSubplot at 0x1a4b71ce50>"
      ]
     },
     "execution_count": 19,
     "metadata": {},
     "output_type": "execute_result"
    },
    {
     "data": {
      "image/png": "[encoded data removed]",
      "text/plain": [
       "<Figure size 432x288 with 1 Axes>"
      ]
     },
     "metadata": {
      "needs_background": "light"
     },
     "output_type": "display_data"
    }
   ],
   "source": [
    "# Plot accuracy\n",
    "history_df.plot(y='accuracy')"
   ]
  },
  {
   "cell_type": "code",
   "execution_count": 20,
   "metadata": {},
   "outputs": [],
   "source": [
    "# Generate new Sequential model\n",
    "new_model = tf.keras.models.Sequential()"
   ]
  },
  {
   "cell_type": "code",
   "execution_count": 21,
   "metadata": {},
   "outputs": [],
   "source": [
    "# Add the input and hidden layer\n",
    "number_inputs = 2\n",
    "number_hidden_nodes = 6\n",
    "\n",
    "new_model.add(tf.keras.layers.Dense(units=number_hidden_nodes, activation='relu', input_dim=number_inputs))\n",
    "\n",
    "# Add the output layer that uses a probability activity function\n",
    "new_model.add(tf.keras.layers.Dense(units=1, activation='sigmoid'))"
   ]
  },
  {
   "cell_type": "code",
   "execution_count": 22,
   "metadata": {},
   "outputs": [
    {
     "name": "stdout",
     "output_type": "stream",
     "text": [
      "Train on 750 samples\n",
      "Epoch 1/100\n",
      "750/750 [==============================] - 1s 1ms/sample - loss: 1.3865 - accuracy: 0.5307\n",
      "Epoch 2/100\n",
      "750/750 [==============================] - 0s 130us/sample - loss: 1.2649 - accuracy: 0.5467\n",
      "Epoch 3/100\n",
      "750/750 [==============================] - 0s 114us/sample - loss: 1.1525 - accuracy: 0.5587\n",
      "Epoch 4/100\n",
      "750/750 [==============================] - 0s 103us/sample - loss: 1.0498 - accuracy: 0.5667\n",
      "Epoch 5/100\n",
      "750/750 [==============================] - 0s 121us/sample - loss: 0.9585 - accuracy: 0.5747\n",
      "Epoch 6/100\n",
      "750/750 [==============================] - 0s 131us/sample - loss: 0.8760 - accuracy: 0.5867\n",
      "Epoch 7/100\n",
      "750/750 [==============================] - 0s 100us/sample - loss: 0.8038 - accuracy: 0.5973\n",
      "Epoch 8/100\n",
      "750/750 [==============================] - 0s 105us/sample - loss: 0.7406 - accuracy: 0.6053\n",
      "Epoch 9/100\n",
      "750/750 [==============================] - 0s 107us/sample - loss: 0.6850 - accuracy: 0.6147\n",
      "Epoch 10/100\n",
      "750/750 [==============================] - 0s 111us/sample - loss: 0.6378 - accuracy: 0.6667\n",
      "Epoch 11/100\n",
      "750/750 [==============================] - 0s 107us/sample - loss: 0.5959 - accuracy: 0.7227\n",
      "Epoch 12/100\n",
      "750/750 [==============================] - 0s 108us/sample - loss: 0.5595 - accuracy: 0.7920\n",
      "Epoch 13/100\n",
      "750/750 [==============================] - 0s 119us/sample - loss: 0.5274 - accuracy: 0.8253\n",
      "Epoch 14/100\n",
      "750/750 [==============================] - 0s 116us/sample - loss: 0.4993 - accuracy: 0.8520\n",
      "Epoch 15/100\n",
      "750/750 [==============================] - 0s 117us/sample - loss: 0.4743 - accuracy: 0.8680\n",
      "Epoch 16/100\n",
      "750/750 [==============================] - 0s 115us/sample - loss: 0.4523 - accuracy: 0.8773\n",
      "Epoch 17/100\n",
      "750/750 [==============================] - 0s 118us/sample - loss: 0.4328 - accuracy: 0.8827\n",
      "Epoch 18/100\n",
      "750/750 [==============================] - 0s 108us/sample - loss: 0.4152 - accuracy: 0.8827\n",
      "Epoch 19/100\n",
      "750/750 [==============================] - 0s 104us/sample - loss: 0.4000 - accuracy: 0.8813\n",
      "Epoch 20/100\n",
      "750/750 [==============================] - 0s 110us/sample - loss: 0.3864 - accuracy: 0.8800\n",
      "Epoch 21/100\n",
      "750/750 [==============================] - 0s 112us/sample - loss: 0.3741 - accuracy: 0.8800\n",
      "Epoch 22/100\n",
      "750/750 [==============================] - 0s 113us/sample - loss: 0.3634 - accuracy: 0.8800\n",
      "Epoch 23/100\n",
      "750/750 [==============================] - 0s 110us/sample - loss: 0.3536 - accuracy: 0.8813\n",
      "Epoch 24/100\n",
      "750/750 [==============================] - 0s 116us/sample - loss: 0.3449 - accuracy: 0.8800\n",
      "Epoch 25/100\n",
      "750/750 [==============================] - 0s 121us/sample - loss: 0.3372 - accuracy: 0.8800\n",
      "Epoch 26/100\n",
      "750/750 [==============================] - 0s 108us/sample - loss: 0.3303 - accuracy: 0.8813\n",
      "Epoch 27/100\n",
      "750/750 [==============================] - 0s 110us/sample - loss: 0.3241 - accuracy: 0.8787\n",
      "Epoch 28/100\n",
      "750/750 [==============================] - 0s 133us/sample - loss: 0.3185 - accuracy: 0.8773\n",
      "Epoch 29/100\n",
      "750/750 [==============================] - 0s 105us/sample - loss: 0.3135 - accuracy: 0.8773\n",
      "Epoch 30/100\n",
      "750/750 [==============================] - 0s 114us/sample - loss: 0.3090 - accuracy: 0.8787\n",
      "Epoch 31/100\n",
      "750/750 [==============================] - 0s 109us/sample - loss: 0.3049 - accuracy: 0.8787\n",
      "Epoch 32/100\n",
      "750/750 [==============================] - 0s 107us/sample - loss: 0.3013 - accuracy: 0.8787\n",
      "Epoch 33/100\n",
      "750/750 [==============================] - 0s 112us/sample - loss: 0.2979 - accuracy: 0.8787\n",
      "Epoch 34/100\n",
      "750/750 [==============================] - 0s 111us/sample - loss: 0.2950 - accuracy: 0.8800\n",
      "Epoch 35/100\n",
      "750/750 [==============================] - 0s 109us/sample - loss: 0.2923 - accuracy: 0.8787\n",
      "Epoch 36/100\n",
      "750/750 [==============================] - 0s 137us/sample - loss: 0.2897 - accuracy: 0.8773\n",
      "Epoch 37/100\n",
      "750/750 [==============================] - 0s 114us/sample - loss: 0.2874 - accuracy: 0.8773\n",
      "Epoch 38/100\n",
      "750/750 [==============================] - 0s 112us/sample - loss: 0.2854 - accuracy: 0.8787\n",
      "Epoch 39/100\n",
      "750/750 [==============================] - 0s 113us/sample - loss: 0.2834 - accuracy: 0.8787\n",
      "Epoch 40/100\n",
      "750/750 [==============================] - 0s 114us/sample - loss: 0.2817 - accuracy: 0.8787\n",
      "Epoch 41/100\n",
      "750/750 [==============================] - 0s 114us/sample - loss: 0.2800 - accuracy: 0.8787\n",
      "Epoch 42/100\n",
      "750/750 [==============================] - 0s 114us/sample - loss: 0.2785 - accuracy: 0.8787\n",
      "Epoch 43/100\n",
      "750/750 [==============================] - 0s 112us/sample - loss: 0.2770 - accuracy: 0.8787\n",
      "Epoch 44/100\n",
      "750/750 [==============================] - 0s 114us/sample - loss: 0.2757 - accuracy: 0.8800\n",
      "Epoch 45/100\n",
      "750/750 [==============================] - 0s 110us/sample - loss: 0.2745 - accuracy: 0.8800\n",
      "Epoch 46/100\n",
      "750/750 [==============================] - 0s 135us/sample - loss: 0.2734 - accuracy: 0.8800\n",
      "Epoch 47/100\n",
      "750/750 [==============================] - 0s 114us/sample - loss: 0.2724 - accuracy: 0.8800\n",
      "Epoch 48/100\n",
      "750/750 [==============================] - 0s 118us/sample - loss: 0.2714 - accuracy: 0.8800\n",
      "Epoch 49/100\n",
      "750/750 [==============================] - 0s 118us/sample - loss: 0.2705 - accuracy: 0.8800\n",
      "Epoch 50/100\n",
      "750/750 [==============================] - 0s 120us/sample - loss: 0.2697 - accuracy: 0.8787\n",
      "Epoch 51/100\n",
      "750/750 [==============================] - 0s 117us/sample - loss: 0.2689 - accuracy: 0.8787\n",
      "Epoch 52/100\n",
      "750/750 [==============================] - 0s 116us/sample - loss: 0.2681 - accuracy: 0.8800\n",
      "Epoch 53/100\n",
      "750/750 [==============================] - 0s 119us/sample - loss: 0.2674 - accuracy: 0.8800\n",
      "Epoch 54/100\n",
      "750/750 [==============================] - 0s 107us/sample - loss: 0.2668 - accuracy: 0.8800\n",
      "Epoch 55/100\n",
      "750/750 [==============================] - 0s 103us/sample - loss: 0.2661 - accuracy: 0.8800\n",
      "Epoch 56/100\n",
      "750/750 [==============================] - 0s 105us/sample - loss: 0.2656 - accuracy: 0.8800\n",
      "Epoch 57/100\n",
      "750/750 [==============================] - 0s 113us/sample - loss: 0.2650 - accuracy: 0.8800\n",
      "Epoch 58/100\n",
      "750/750 [==============================] - 0s 107us/sample - loss: 0.2646 - accuracy: 0.8800\n",
      "Epoch 59/100\n",
      "750/750 [==============================] - 0s 109us/sample - loss: 0.2641 - accuracy: 0.8800\n",
      "Epoch 60/100\n",
      "750/750 [==============================] - 0s 110us/sample - loss: 0.2637 - accuracy: 0.8800\n",
      "Epoch 61/100\n",
      "750/750 [==============================] - 0s 107us/sample - loss: 0.2633 - accuracy: 0.8800\n",
      "Epoch 62/100\n",
      "750/750 [==============================] - 0s 106us/sample - loss: 0.2629 - accuracy: 0.8813\n",
      "Epoch 63/100\n",
      "750/750 [==============================] - 0s 105us/sample - loss: 0.2625 - accuracy: 0.8813\n",
      "Epoch 64/100\n",
      "750/750 [==============================] - 0s 101us/sample - loss: 0.2621 - accuracy: 0.8813\n",
      "Epoch 65/100\n",
      "750/750 [==============================] - 0s 104us/sample - loss: 0.2618 - accuracy: 0.8813\n",
      "Epoch 66/100\n",
      "750/750 [==============================] - 0s 106us/sample - loss: 0.2615 - accuracy: 0.8827\n",
      "Epoch 67/100\n",
      "750/750 [==============================] - 0s 112us/sample - loss: 0.2612 - accuracy: 0.8813\n",
      "Epoch 68/100\n",
      "750/750 [==============================] - 0s 108us/sample - loss: 0.2609 - accuracy: 0.8827\n",
      "Epoch 69/100\n",
      "750/750 [==============================] - 0s 102us/sample - loss: 0.2606 - accuracy: 0.8813\n",
      "Epoch 70/100\n",
      "750/750 [==============================] - 0s 106us/sample - loss: 0.2603 - accuracy: 0.8813\n",
      "Epoch 71/100\n",
      "750/750 [==============================] - 0s 110us/sample - loss: 0.2600 - accuracy: 0.8813\n",
      "Epoch 72/100\n",
      "750/750 [==============================] - 0s 123us/sample - loss: 0.2597 - accuracy: 0.8813\n",
      "Epoch 73/100\n",
      "750/750 [==============================] - 0s 114us/sample - loss: 0.2595 - accuracy: 0.8813\n",
      "Epoch 74/100\n",
      "750/750 [==============================] - 0s 115us/sample - loss: 0.2593 - accuracy: 0.8813\n",
      "Epoch 75/100\n",
      "750/750 [==============================] - 0s 112us/sample - loss: 0.2590 - accuracy: 0.8827\n",
      "Epoch 76/100\n",
      "750/750 [==============================] - 0s 113us/sample - loss: 0.2588 - accuracy: 0.8840\n",
      "Epoch 77/100\n",
      "750/750 [==============================] - 0s 115us/sample - loss: 0.2586 - accuracy: 0.8840\n",
      "Epoch 78/100\n"
     ]
    },
    {
     "name": "stdout",
     "output_type": "stream",
     "text": [
      "750/750 [==============================] - 0s 113us/sample - loss: 0.2584 - accuracy: 0.8827\n",
      "Epoch 79/100\n",
      "750/750 [==============================] - 0s 94us/sample - loss: 0.2582 - accuracy: 0.8813\n",
      "Epoch 80/100\n",
      "750/750 [==============================] - 0s 98us/sample - loss: 0.2580 - accuracy: 0.8800\n",
      "Epoch 81/100\n",
      "750/750 [==============================] - 0s 94us/sample - loss: 0.2578 - accuracy: 0.8813\n",
      "Epoch 82/100\n",
      "750/750 [==============================] - 0s 99us/sample - loss: 0.2577 - accuracy: 0.8813\n",
      "Epoch 83/100\n",
      "750/750 [==============================] - 0s 95us/sample - loss: 0.2575 - accuracy: 0.8813\n",
      "Epoch 84/100\n",
      "750/750 [==============================] - 0s 99us/sample - loss: 0.2573 - accuracy: 0.8813\n",
      "Epoch 85/100\n",
      "750/750 [==============================] - 0s 97us/sample - loss: 0.2571 - accuracy: 0.8813\n",
      "Epoch 86/100\n",
      "750/750 [==============================] - 0s 99us/sample - loss: 0.2570 - accuracy: 0.8813\n",
      "Epoch 87/100\n",
      "750/750 [==============================] - 0s 96us/sample - loss: 0.2567 - accuracy: 0.8827\n",
      "Epoch 88/100\n",
      "750/750 [==============================] - 0s 93us/sample - loss: 0.2565 - accuracy: 0.8827\n",
      "Epoch 89/100\n",
      "750/750 [==============================] - 0s 95us/sample - loss: 0.2564 - accuracy: 0.8827\n",
      "Epoch 90/100\n",
      "750/750 [==============================] - 0s 96us/sample - loss: 0.2562 - accuracy: 0.8827\n",
      "Epoch 91/100\n",
      "750/750 [==============================] - 0s 94us/sample - loss: 0.2560 - accuracy: 0.8827\n",
      "Epoch 92/100\n",
      "750/750 [==============================] - 0s 100us/sample - loss: 0.2559 - accuracy: 0.8827\n",
      "Epoch 93/100\n",
      "750/750 [==============================] - 0s 97us/sample - loss: 0.2557 - accuracy: 0.8827\n",
      "Epoch 94/100\n",
      "750/750 [==============================] - 0s 103us/sample - loss: 0.2555 - accuracy: 0.8827\n",
      "Epoch 95/100\n",
      "750/750 [==============================] - 0s 97us/sample - loss: 0.2553 - accuracy: 0.8827\n",
      "Epoch 96/100\n",
      "750/750 [==============================] - 0s 103us/sample - loss: 0.2552 - accuracy: 0.8827\n",
      "Epoch 97/100\n",
      "750/750 [==============================] - 0s 105us/sample - loss: 0.2550 - accuracy: 0.8827\n",
      "Epoch 98/100\n",
      "750/750 [==============================] - 0s 98us/sample - loss: 0.2548 - accuracy: 0.8827\n",
      "Epoch 99/100\n",
      "750/750 [==============================] - 0s 103us/sample - loss: 0.2546 - accuracy: 0.8827\n",
      "Epoch 100/100\n",
      "750/750 [==============================] - 0s 103us/sample - loss: 0.2543 - accuracy: 0.8840\n"
     ]
    }
   ],
   "source": [
    "# Compile the Sequential model together and customize metrics\n",
    "new_model.compile(loss='binary_crossentropy', optimizer='adam', metrics=[\"accuracy\"])\n",
    "\n",
    "# Fit the model to the training data\n",
    "new_fit_model = new_model.fit(X_moon_train_scaled, y_moon_train, epochs=100, shuffle=True)"
   ]
  },
  {
   "cell_type": "code",
   "execution_count": null,
   "metadata": {},
   "outputs": [],
   "source": []
  },
  {
   "cell_type": "code",
   "execution_count": null,
   "metadata": {},
   "outputs": [],
   "source": []
  }
 ],
 "metadata": {
  "kernelspec": {
   "display_name": "PythonData",
   "language": "python",
   "name": "pythondata"
  },
  "language_info": {
   "codemirror_mode": {
    "name": "ipython",
    "version": 3
   },
   "file_extension": ".py",
   "mimetype": "text/x-python",
   "name": "python",
   "nbconvert_exporter": "python",
   "pygments_lexer": "ipython3",
   "version": "3.7.6"
  }
 },
 "nbformat": 4,
 "nbformat_minor": 4
}
